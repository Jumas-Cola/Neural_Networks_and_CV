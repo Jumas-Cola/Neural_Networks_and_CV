{
  "nbformat": 4,
  "nbformat_minor": 0,
  "metadata": {
    "colab": {
      "name": "PyTorch_LeNet.ipynb",
      "provenance": [],
      "collapsed_sections": [],
      "authorship_tag": "ABX9TyMaVHne/K1QXJBGj06oiuJ8",
      "include_colab_link": true
    },
    "kernelspec": {
      "name": "python3",
      "display_name": "Python 3"
    },
    "accelerator": "GPU"
  },
  "cells": [
    {
      "cell_type": "markdown",
      "metadata": {
        "id": "view-in-github",
        "colab_type": "text"
      },
      "source": [
        "<a href=\"https://colab.research.google.com/github/Jumas-Cola/Neural_Networks_and_CV/blob/master/PyTorch_LeNet.ipynb\" target=\"_parent\"><img src=\"https://colab.research.google.com/assets/colab-badge.svg\" alt=\"Open In Colab\"/></a>"
      ]
    },
    {
      "cell_type": "code",
      "metadata": {
        "id": "b9ghgGTsqHvb",
        "colab_type": "code",
        "colab": {}
      },
      "source": [
        "import torch\n",
        "import random\n",
        "import numpy as np\n",
        "\n",
        "def determinate_notebook():\n",
        "  random.seed(0)\n",
        "  np.random.seed(0)\n",
        "  torch.manual_seed(0)\n",
        "  torch.cuda.manual_seed(0)\n",
        "  torch.backends.cudnn.deterministic = True\n",
        "\n",
        "determinate_notebook()"
      ],
      "execution_count": 0,
      "outputs": []
    },
    {
      "cell_type": "code",
      "metadata": {
        "id": "uyhqO7md249-",
        "colab_type": "code",
        "colab": {}
      },
      "source": [
        "import torchvision.datasets\n",
        "\n",
        "MNIST_train = torchvision.datasets.MNIST('./', download=True, train=True)\n",
        "MNIST_test = torchvision.datasets.MNIST('./', download=True, train=False)"
      ],
      "execution_count": 0,
      "outputs": []
    },
    {
      "cell_type": "code",
      "metadata": {
        "id": "WTL_SuKZ-H3w",
        "colab_type": "code",
        "colab": {}
      },
      "source": [
        "X_train = MNIST_train.data\n",
        "y_train = MNIST_train.targets\n",
        "X_test = MNIST_test.data\n",
        "y_test = MNIST_test.targets"
      ],
      "execution_count": 0,
      "outputs": []
    },
    {
      "cell_type": "code",
      "metadata": {
        "id": "vbBNAuR5A1UN",
        "colab_type": "code",
        "outputId": "5a2d3526-ddd5-4f9e-d4e6-524b98e1fa1f",
        "colab": {
          "base_uri": "https://localhost:8080/",
          "height": 35
        }
      },
      "source": [
        "len(y_train), len(y_test)"
      ],
      "execution_count": 25,
      "outputs": [
        {
          "output_type": "execute_result",
          "data": {
            "text/plain": [
              "(60000, 10000)"
            ]
          },
          "metadata": {
            "tags": []
          },
          "execution_count": 25
        }
      ]
    },
    {
      "cell_type": "code",
      "metadata": {
        "id": "OWZpFZVzZ4gz",
        "colab_type": "code",
        "outputId": "011e65a9-e21b-4a40-e221-0a3ef0187950",
        "colab": {
          "base_uri": "https://localhost:8080/",
          "height": 265
        }
      },
      "source": [
        "import matplotlib.pyplot as plt\n",
        "\n",
        "plt.imshow(X_train[0, :, :])\n",
        "plt.show()"
      ],
      "execution_count": 26,
      "outputs": [
        {
          "output_type": "display_data",
          "data": {
            "image/png": "[encoded data removed]",
            "text/plain": [
              "<Figure size 432x288 with 1 Axes>"
            ]
          },
          "metadata": {
            "tags": []
          }
        }
      ]
    },
    {
      "cell_type": "code",
      "metadata": {
        "id": "WE9mSDdAaqz_",
        "colab_type": "code",
        "outputId": "a91b9a08-f46a-48a8-b9b9-f255c38270a3",
        "colab": {
          "base_uri": "https://localhost:8080/",
          "height": 35
        }
      },
      "source": [
        "X_train.shape, X_test.shape"
      ],
      "execution_count": 27,
      "outputs": [
        {
          "output_type": "execute_result",
          "data": {
            "text/plain": [
              "(torch.Size([60000, 28, 28]), torch.Size([10000, 28, 28]))"
            ]
          },
          "metadata": {
            "tags": []
          },
          "execution_count": 27
        }
      ]
    },
    {
      "cell_type": "code",
      "metadata": {
        "id": "FmwFV-6vaVtO",
        "colab_type": "code",
        "colab": {}
      },
      "source": [
        "X_train = X_train.unsqueeze(1).float()\n",
        "X_test = X_test.unsqueeze(1).float()"
      ],
      "execution_count": 0,
      "outputs": []
    },
    {
      "cell_type": "code",
      "metadata": {
        "id": "xfV1NwDbakFO",
        "colab_type": "code",
        "outputId": "5db7e92e-6a63-4c2e-df87-63ac1a9b5d1a",
        "colab": {
          "base_uri": "https://localhost:8080/",
          "height": 35
        }
      },
      "source": [
        "X_train.shape, X_test.shape"
      ],
      "execution_count": 29,
      "outputs": [
        {
          "output_type": "execute_result",
          "data": {
            "text/plain": [
              "(torch.Size([60000, 1, 28, 28]), torch.Size([10000, 1, 28, 28]))"
            ]
          },
          "metadata": {
            "tags": []
          },
          "execution_count": 29
        }
      ]
    },
    {
      "cell_type": "code",
      "metadata": {
        "id": "6nsWgkz7E4u5",
        "colab_type": "code",
        "colab": {}
      },
      "source": [
        "class LeNet5(torch.nn.Module):\n",
        "  def __init__(self):\n",
        "    super().__init__()\n",
        "\n",
        "    self.conv1 = torch.nn.Conv2d(\n",
        "        in_channels=1, out_channels=6, kernel_size=5, padding=2)\n",
        "    self.act1 = torch.nn.ReLU()\n",
        "    self.pool1 = torch.nn.AvgPool2d(kernel_size=2, stride=2)\n",
        "\n",
        "    self.conv2 = torch.nn.Conv2d(\n",
        "        in_channels=6, out_channels=16, kernel_size=5, padding=0)\n",
        "    self.act2 = torch.nn.ReLU()\n",
        "    self.pool2 = torch.nn.AvgPool2d(kernel_size=2, stride=2)\n",
        "\n",
        "    self.fc1 = torch.nn.Linear(5 * 5 * 16, 120)\n",
        "    self.act3 = torch.nn.ReLU()\n",
        "\n",
        "    self.fc2 = torch.nn.Linear(120, 120)\n",
        "    self.act4 = torch.nn.ReLU()\n",
        "\n",
        "    self.fc3 = torch.nn.Linear(120, 84)\n",
        "    self.act5 = torch.nn.ReLU()\n",
        "\n",
        "    self.fc4 = torch.nn.Linear(84, 10)\n",
        "\n",
        "  def forward(self, x):\n",
        "    x = self.conv1(x)\n",
        "    x = self.act1(x)\n",
        "    x = self.pool1(x)\n",
        "\n",
        "    x = self.conv2(x)\n",
        "    x = self.act2(x)\n",
        "    x = self.pool2(x)\n",
        "\n",
        "    x= x.view(x.size(0), x.size(1) * x.size(2) * x.size(3))\n",
        "\n",
        "    x = self.fc1(x)\n",
        "    x = self.act3(x)\n",
        "\n",
        "    x = self.fc2(x)\n",
        "    x = self.act4(x)\n",
        "\n",
        "    x = self.fc3(x)\n",
        "    x = self.act5(x)\n",
        "\n",
        "    x = self.fc4(x)\n",
        "\n",
        "    return x\n",
        "\n",
        "lenet5 = LeNet5()"
      ],
      "execution_count": 0,
      "outputs": []
    },
    {
      "cell_type": "code",
      "metadata": {
        "id": "Enc9GfpiOF_w",
        "colab_type": "code",
        "colab": {
          "base_uri": "https://localhost:8080/",
          "height": 308
        },
        "outputId": "bc92d4fb-0b94-44d8-dc50-0a3fcd8ee924"
      },
      "source": [
        "!nvidia-smi"
      ],
      "execution_count": 31,
      "outputs": [
        {
          "output_type": "stream",
          "text": [
            "Sat Feb 15 14:24:25 2020       \n",
            "+-----------------------------------------------------------------------------+\n",
            "| NVIDIA-SMI 440.48.02    Driver Version: 418.67       CUDA Version: 10.1     |\n",
            "|-------------------------------+----------------------+----------------------+\n",
            "| GPU  Name        Persistence-M| Bus-Id        Disp.A | Volatile Uncorr. ECC |\n",
            "| Fan  Temp  Perf  Pwr:Usage/Cap|         Memory-Usage | GPU-Util  Compute M. |\n",
            "|===============================+======================+======================|\n",
            "|   0  Tesla P4            Off  | 00000000:00:04.0 Off |                    0 |\n",
            "| N/A   54C    P0    24W /  75W |   1765MiB /  7611MiB |      0%      Default |\n",
            "+-------------------------------+----------------------+----------------------+\n",
            "                                                                               \n",
            "+-----------------------------------------------------------------------------+\n",
            "| Processes:                                                       GPU Memory |\n",
            "|  GPU       PID   Type   Process name                             Usage      |\n",
            "|=============================================================================|\n",
            "+-----------------------------------------------------------------------------+\n"
          ],
          "name": "stdout"
        }
      ]
    },
    {
      "cell_type": "code",
      "metadata": {
        "id": "qD99Brc8alwj",
        "colab_type": "code",
        "colab": {}
      },
      "source": [
        "device = torch.device('cuda:0' if torch.cuda.is_available() else 'cpu')\n",
        "lenet5 = lenet5.to(device)"
      ],
      "execution_count": 0,
      "outputs": []
    },
    {
      "cell_type": "code",
      "metadata": {
        "id": "PJGpxBlgbOc9",
        "colab_type": "code",
        "colab": {}
      },
      "source": [
        "loss = torch.nn.CrossEntropyLoss()\n",
        "optimizer = torch.optim.Adam(lenet5.parameters(), lr=1.0e-3)"
      ],
      "execution_count": 0,
      "outputs": []
    },
    {
      "cell_type": "code",
      "metadata": {
        "id": "TGHAWcB9j0sl",
        "colab_type": "code",
        "outputId": "404a2f07-5bc5-4813-8320-93316c8f32c5",
        "colab": {
          "base_uri": "https://localhost:8080/",
          "height": 1000
        }
      },
      "source": [
        "batch_size = 1000\n",
        "\n",
        "test_accuracy_history = []\n",
        "test_loss_history = []\n",
        "\n",
        "X_test = X_test.to(device)\n",
        "y_test = y_test.to(device)\n",
        "\n",
        "import time\n",
        "\n",
        "start_time = time.time()\n",
        "\n",
        "for epoch in range(200):\n",
        "  order = np.random.permutation(len(X_train))\n",
        "  for start_index in range(0, len(X_train), batch_size):\n",
        "    optimizer.zero_grad()\n",
        "\n",
        "    batch_indexes = order[start_index:start_index+batch_size]\n",
        "\n",
        "    X_batch = X_train[batch_indexes].to(device)\n",
        "    y_batch = y_train[batch_indexes].to(device)\n",
        "\n",
        "    preds = lenet5.forward(X_batch)\n",
        "\n",
        "    loss_value = loss(preds, y_batch)\n",
        "    loss_value.backward()\n",
        "\n",
        "    optimizer.step()\n",
        "\n",
        "  test_preds = lenet5.forward(X_test)\n",
        "  test_loss_history.append(loss(test_preds, y_test).data.cpu())\n",
        "\n",
        "  accuracy = (test_preds.argmax(dim=1) == y_test).float().mean().data.cpu()\n",
        "  test_accuracy_history.append(accuracy)\n",
        "\n",
        "  print(accuracy)\n",
        "\n",
        "print('Training time (100 epoches): ', time.time() - start_time)\n"
      ],
      "execution_count": 34,
      "outputs": [
        {
          "output_type": "stream",
          "text": [
            "tensor(0.9493)\n",
            "tensor(0.9750)\n",
            "tensor(0.9777)\n",
            "tensor(0.9830)\n",
            "tensor(0.9866)\n",
            "tensor(0.9840)\n",
            "tensor(0.9838)\n",
            "tensor(0.9844)\n",
            "tensor(0.9898)\n",
            "tensor(0.9888)\n",
            "tensor(0.9897)\n",
            "tensor(0.9876)\n",
            "tensor(0.9904)\n",
            "tensor(0.9891)\n",
            "tensor(0.9886)\n",
            "tensor(0.9911)\n",
            "tensor(0.9895)\n",
            "tensor(0.9903)\n",
            "tensor(0.9894)\n",
            "tensor(0.9889)\n",
            "tensor(0.9909)\n",
            "tensor(0.9903)\n",
            "tensor(0.9902)\n",
            "tensor(0.9904)\n",
            "tensor(0.9879)\n",
            "tensor(0.9910)\n",
            "tensor(0.9903)\n",
            "tensor(0.9907)\n",
            "tensor(0.9907)\n",
            "tensor(0.9908)\n",
            "tensor(0.9886)\n",
            "tensor(0.9889)\n",
            "tensor(0.9893)\n",
            "tensor(0.9887)\n",
            "tensor(0.9899)\n",
            "tensor(0.9906)\n",
            "tensor(0.9906)\n",
            "tensor(0.9893)\n",
            "tensor(0.9896)\n",
            "tensor(0.9897)\n",
            "tensor(0.9907)\n",
            "tensor(0.9900)\n",
            "tensor(0.9904)\n",
            "tensor(0.9888)\n",
            "tensor(0.9863)\n",
            "tensor(0.9896)\n",
            "tensor(0.9903)\n",
            "tensor(0.9910)\n",
            "tensor(0.9905)\n",
            "tensor(0.9903)\n",
            "tensor(0.9891)\n",
            "tensor(0.9913)\n",
            "tensor(0.9917)\n",
            "tensor(0.9914)\n",
            "tensor(0.9916)\n",
            "tensor(0.9914)\n",
            "tensor(0.9917)\n",
            "tensor(0.9924)\n",
            "tensor(0.9917)\n",
            "tensor(0.9900)\n",
            "tensor(0.9895)\n",
            "tensor(0.9889)\n",
            "tensor(0.9895)\n",
            "tensor(0.9906)\n",
            "tensor(0.9914)\n",
            "tensor(0.9908)\n",
            "tensor(0.9889)\n",
            "tensor(0.9890)\n",
            "tensor(0.9903)\n",
            "tensor(0.9915)\n",
            "tensor(0.9909)\n",
            "tensor(0.9899)\n",
            "tensor(0.9901)\n",
            "tensor(0.9910)\n",
            "tensor(0.9904)\n",
            "tensor(0.9911)\n",
            "tensor(0.9909)\n",
            "tensor(0.9891)\n",
            "tensor(0.9905)\n",
            "tensor(0.9916)\n",
            "tensor(0.9900)\n",
            "tensor(0.9894)\n",
            "tensor(0.9898)\n",
            "tensor(0.9895)\n",
            "tensor(0.9906)\n",
            "tensor(0.9896)\n",
            "tensor(0.9899)\n",
            "tensor(0.9908)\n",
            "tensor(0.9909)\n",
            "tensor(0.9915)\n",
            "tensor(0.9908)\n",
            "tensor(0.9908)\n",
            "tensor(0.9914)\n",
            "tensor(0.9882)\n",
            "tensor(0.9918)\n",
            "tensor(0.9897)\n",
            "tensor(0.9903)\n",
            "tensor(0.9912)\n",
            "tensor(0.9911)\n",
            "tensor(0.9919)\n",
            "tensor(0.9912)\n",
            "tensor(0.9902)\n",
            "tensor(0.9910)\n",
            "tensor(0.9910)\n",
            "tensor(0.9902)\n",
            "tensor(0.9915)\n",
            "tensor(0.9901)\n",
            "tensor(0.9900)\n",
            "tensor(0.9915)\n",
            "tensor(0.9911)\n",
            "tensor(0.9919)\n",
            "tensor(0.9920)\n",
            "tensor(0.9921)\n",
            "tensor(0.9921)\n",
            "tensor(0.9922)\n",
            "tensor(0.9924)\n",
            "tensor(0.9924)\n",
            "tensor(0.9922)\n",
            "tensor(0.9922)\n",
            "tensor(0.9922)\n",
            "tensor(0.9922)\n",
            "tensor(0.9923)\n",
            "tensor(0.9923)\n",
            "tensor(0.9923)\n",
            "tensor(0.9923)\n",
            "tensor(0.9923)\n",
            "tensor(0.9924)\n",
            "tensor(0.9924)\n",
            "tensor(0.9925)\n",
            "tensor(0.9925)\n",
            "tensor(0.9925)\n",
            "tensor(0.9926)\n",
            "tensor(0.9926)\n",
            "tensor(0.9926)\n",
            "tensor(0.9927)\n",
            "tensor(0.9927)\n",
            "tensor(0.9927)\n",
            "tensor(0.9927)\n",
            "tensor(0.9927)\n",
            "tensor(0.9928)\n",
            "tensor(0.9928)\n",
            "tensor(0.9928)\n",
            "tensor(0.9928)\n",
            "tensor(0.9928)\n",
            "tensor(0.9927)\n",
            "tensor(0.9928)\n",
            "tensor(0.9927)\n",
            "tensor(0.9927)\n",
            "tensor(0.9927)\n",
            "tensor(0.9927)\n",
            "tensor(0.9927)\n",
            "tensor(0.9927)\n",
            "tensor(0.9927)\n",
            "tensor(0.9927)\n",
            "tensor(0.9927)\n",
            "tensor(0.9927)\n",
            "tensor(0.9927)\n",
            "tensor(0.9926)\n",
            "tensor(0.9926)\n",
            "tensor(0.9926)\n",
            "tensor(0.9926)\n",
            "tensor(0.9926)\n",
            "tensor(0.9927)\n",
            "tensor(0.9927)\n",
            "tensor(0.9928)\n",
            "tensor(0.9927)\n",
            "tensor(0.9927)\n",
            "tensor(0.9927)\n",
            "tensor(0.9927)\n",
            "tensor(0.9927)\n",
            "tensor(0.9926)\n",
            "tensor(0.9926)\n",
            "tensor(0.9926)\n",
            "tensor(0.9926)\n",
            "tensor(0.9926)\n",
            "tensor(0.9926)\n",
            "tensor(0.9926)\n",
            "tensor(0.9926)\n",
            "tensor(0.9926)\n",
            "tensor(0.9927)\n",
            "tensor(0.9927)\n",
            "tensor(0.9927)\n",
            "tensor(0.9927)\n",
            "tensor(0.9927)\n",
            "tensor(0.9927)\n",
            "tensor(0.9927)\n",
            "tensor(0.9927)\n",
            "tensor(0.9927)\n",
            "tensor(0.9927)\n",
            "tensor(0.9927)\n",
            "tensor(0.9927)\n",
            "tensor(0.9927)\n",
            "tensor(0.9928)\n",
            "tensor(0.9928)\n",
            "tensor(0.9928)\n",
            "tensor(0.9928)\n",
            "tensor(0.9927)\n",
            "tensor(0.9926)\n",
            "tensor(0.9927)\n",
            "tensor(0.9927)\n",
            "Training time (100 epoches):  225.87913727760315\n"
          ],
          "name": "stdout"
        }
      ]
    },
    {
      "cell_type": "code",
      "metadata": {
        "id": "a80SssDxopLn",
        "colab_type": "code",
        "outputId": "4669c10c-eb7d-423e-8cc8-f96d74531868",
        "colab": {
          "base_uri": "https://localhost:8080/",
          "height": 163
        }
      },
      "source": [
        "lenet5.forward(X_test)"
      ],
      "execution_count": 35,
      "outputs": [
        {
          "output_type": "execute_result",
          "data": {
            "text/plain": [
              "tensor([[-24.5792,  -0.9422,  -6.5050,  ...,  39.7036, -16.6172,  -5.9070],\n",
              "        [ -0.6777,  -7.6085,  57.7273,  ..., -15.2132, -19.7789, -46.3135],\n",
              "        [ -2.9544,  39.7864,  -7.2729,  ...,  -8.7876,  -2.5454, -18.9504],\n",
              "        ...,\n",
              "        [-57.0085,  -1.3239,  -8.2902,  ..., -16.8713,  -4.2614,  -0.8456],\n",
              "        [-25.0928,   4.6595, -29.0618,  ..., -42.3006,   9.6195,  -6.7059],\n",
              "        [  0.0750, -30.5944,  -3.4810,  ..., -38.5124,  -7.0422, -14.2107]],\n",
              "       device='cuda:0', grad_fn=<AddmmBackward>)"
            ]
          },
          "metadata": {
            "tags": []
          },
          "execution_count": 35
        }
      ]
    },
    {
      "cell_type": "code",
      "metadata": {
        "id": "DG7glWjQpdVJ",
        "colab_type": "code",
        "outputId": "16d8d798-ec34-487e-e07e-09318f22d6dd",
        "colab": {
          "base_uri": "https://localhost:8080/",
          "height": 265
        }
      },
      "source": [
        "plt.plot(test_accuracy_history);\n",
        "# plt.plot(test_loss_history)\n",
        "plt.tick_params(colors='w')"
      ],
      "execution_count": 36,
      "outputs": [
        {
          "output_type": "display_data",
          "data": {
            "image/png": "[encoded data removed]",
            "text/plain": [
              "<Figure size 432x288 with 1 Axes>"
            ]
          },
          "metadata": {
            "tags": []
          }
        }
      ]
    }
  ]
}