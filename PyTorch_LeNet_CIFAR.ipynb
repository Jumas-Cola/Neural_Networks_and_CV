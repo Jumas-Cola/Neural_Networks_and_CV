{
  "nbformat": 4,
  "nbformat_minor": 0,
  "metadata": {
    "colab": {
      "name": "PyTorch_LeNet_CIFAR.ipynb",
      "provenance": [],
      "collapsed_sections": [],
      "authorship_tag": "ABX9TyMdyQIrhtvUThvgiWp8K00B",
      "include_colab_link": true
    },
    "kernelspec": {
      "name": "python3",
      "display_name": "Python 3"
    },
    "accelerator": "GPU"
  },
  "cells": [
    {
      "cell_type": "markdown",
      "metadata": {
        "id": "view-in-github",
        "colab_type": "text"
      },
      "source": [
        "<a href=\"https://colab.research.google.com/github/Jumas-Cola/Neural_Networks_and_CV/blob/master/PyTorch_LeNet_CIFAR.ipynb\" target=\"_parent\"><img src=\"https://colab.research.google.com/assets/colab-badge.svg\" alt=\"Open In Colab\"/></a>"
      ]
    },
    {
      "cell_type": "code",
      "metadata": {
        "id": "b9ghgGTsqHvb",
        "colab_type": "code",
        "colab": {}
      },
      "source": [
        "import torch\n",
        "import random\n",
        "import numpy as np\n",
        "\n",
        "def determinate_notebook():\n",
        "  random.seed(0)\n",
        "  np.random.seed(0)\n",
        "  torch.manual_seed(0)\n",
        "  torch.cuda.manual_seed(0)\n",
        "  torch.backends.cudnn.deterministic = True\n",
        "\n",
        "determinate_notebook()"
      ],
      "execution_count": 0,
      "outputs": []
    },
    {
      "cell_type": "code",
      "metadata": {
        "id": "uyhqO7md249-",
        "colab_type": "code",
        "outputId": "2486d70b-d637-43e4-a721-f2ab50119078",
        "colab": {
          "base_uri": "https://localhost:8080/",
          "height": 51
        }
      },
      "source": [
        "import torchvision.datasets\n",
        "\n",
        "CIFAR_train = torchvision.datasets.CIFAR10('./', download=True, train=True)\n",
        "CIFAR_test = torchvision.datasets.CIFAR10('./', download=True, train=False)"
      ],
      "execution_count": 0,
      "outputs": [
        {
          "output_type": "stream",
          "text": [
            "Files already downloaded and verified\n",
            "Files already downloaded and verified\n"
          ],
          "name": "stdout"
        }
      ]
    },
    {
      "cell_type": "code",
      "metadata": {
        "id": "WTL_SuKZ-H3w",
        "colab_type": "code",
        "colab": {}
      },
      "source": [
        "X_train = torch.FloatTensor(CIFAR_train.data)\n",
        "y_train = torch.LongTensor(CIFAR_train.targets)\n",
        "X_test = torch.FloatTensor(CIFAR_test.data)\n",
        "y_test = torch.LongTensor(CIFAR_test.targets)"
      ],
      "execution_count": 0,
      "outputs": []
    },
    {
      "cell_type": "code",
      "metadata": {
        "id": "vbBNAuR5A1UN",
        "colab_type": "code",
        "outputId": "dcc257af-1814-4c96-8fa0-3a3b863d15af",
        "colab": {
          "base_uri": "https://localhost:8080/",
          "height": 34
        }
      },
      "source": [
        "len(y_train), len(y_test)"
      ],
      "execution_count": 0,
      "outputs": [
        {
          "output_type": "execute_result",
          "data": {
            "text/plain": [
              "(50000, 10000)"
            ]
          },
          "metadata": {
            "tags": []
          },
          "execution_count": 173
        }
      ]
    },
    {
      "cell_type": "code",
      "metadata": {
        "id": "OWZpFZVzZ4gz",
        "colab_type": "code",
        "outputId": "c0e0600e-bd9f-4bb1-99c4-5ac674de141a",
        "colab": {
          "base_uri": "https://localhost:8080/",
          "height": 34
        }
      },
      "source": [
        "X_train.min(), X_train.max()"
      ],
      "execution_count": 0,
      "outputs": [
        {
          "output_type": "execute_result",
          "data": {
            "text/plain": [
              "(tensor(0.), tensor(255.))"
            ]
          },
          "metadata": {
            "tags": []
          },
          "execution_count": 174
        }
      ]
    },
    {
      "cell_type": "code",
      "metadata": {
        "id": "WE9mSDdAaqz_",
        "colab_type": "code",
        "colab": {}
      },
      "source": [
        "X_train /= 225.\n",
        "X_test /= 225."
      ],
      "execution_count": 0,
      "outputs": []
    },
    {
      "cell_type": "code",
      "metadata": {
        "id": "FmwFV-6vaVtO",
        "colab_type": "code",
        "outputId": "d8584947-5411-4ba6-f2d7-1922a12b380a",
        "colab": {
          "base_uri": "https://localhost:8080/",
          "height": 187
        }
      },
      "source": [
        "CIFAR_train.classes"
      ],
      "execution_count": 0,
      "outputs": [
        {
          "output_type": "execute_result",
          "data": {
            "text/plain": [
              "['airplane',\n",
              " 'automobile',\n",
              " 'bird',\n",
              " 'cat',\n",
              " 'deer',\n",
              " 'dog',\n",
              " 'frog',\n",
              " 'horse',\n",
              " 'ship',\n",
              " 'truck']"
            ]
          },
          "metadata": {
            "tags": []
          },
          "execution_count": 176
        }
      ]
    },
    {
      "cell_type": "code",
      "metadata": {
        "id": "xfV1NwDbakFO",
        "colab_type": "code",
        "outputId": "fafc63a7-8461-477d-813c-68c1311adc63",
        "colab": {
          "base_uri": "https://localhost:8080/",
          "height": 335
        }
      },
      "source": [
        "import matplotlib.pyplot as plt\n",
        "\n",
        "plt.figure(figsize=(20, 2))\n",
        "for i in range(10):\n",
        "  plt.subplot(1, 10, i + 1)\n",
        "  plt.imshow(X_train[i])\n",
        "  print(y_train[i], end=' ')"
      ],
      "execution_count": 0,
      "outputs": [
        {
          "output_type": "stream",
          "text": [
            "Clipping input data to the valid range for imshow with RGB data ([0..1] for floats or [0..255] for integers).\n",
            "Clipping input data to the valid range for imshow with RGB data ([0..1] for floats or [0..255] for integers).\n",
            "Clipping input data to the valid range for imshow with RGB data ([0..1] for floats or [0..255] for integers).\n",
            "Clipping input data to the valid range for imshow with RGB data ([0..1] for floats or [0..255] for integers).\n",
            "Clipping input data to the valid range for imshow with RGB data ([0..1] for floats or [0..255] for integers).\n",
            "Clipping input data to the valid range for imshow with RGB data ([0..1] for floats or [0..255] for integers).\n",
            "Clipping input data to the valid range for imshow with RGB data ([0..1] for floats or [0..255] for integers).\n",
            "Clipping input data to the valid range for imshow with RGB data ([0..1] for floats or [0..255] for integers).\n",
            "Clipping input data to the valid range for imshow with RGB data ([0..1] for floats or [0..255] for integers).\n"
          ],
          "name": "stderr"
        },
        {
          "output_type": "stream",
          "text": [
            "tensor(6) tensor(9) tensor(9) tensor(4) tensor(1) tensor(1) tensor(2) tensor(7) tensor(8) tensor(3) "
          ],
          "name": "stdout"
        },
        {
          "output_type": "display_data",
          "data": {
            "image/png": "[encoded data removed]",
            "text/plain": [
              "<Figure size 1440x144 with 10 Axes>"
            ]
          },
          "metadata": {
            "tags": []
          }
        }
      ]
    },
    {
      "cell_type": "code",
      "metadata": {
        "id": "48We3wCaMpVx",
        "colab_type": "code",
        "outputId": "b8b69345-2529-4556-d3f9-a7c25aa78904",
        "colab": {
          "base_uri": "https://localhost:8080/",
          "height": 34
        }
      },
      "source": [
        "X_train.shape, y_train.shape"
      ],
      "execution_count": 0,
      "outputs": [
        {
          "output_type": "execute_result",
          "data": {
            "text/plain": [
              "(torch.Size([50000, 32, 32, 3]), torch.Size([50000]))"
            ]
          },
          "metadata": {
            "tags": []
          },
          "execution_count": 178
        }
      ]
    },
    {
      "cell_type": "code",
      "metadata": {
        "id": "75oSjJJdMxm8",
        "colab_type": "code",
        "colab": {}
      },
      "source": [
        "X_train = X_train.permute(0, 3, 1, 2)\n",
        "X_test = X_test.permute(0, 3, 1, 2)"
      ],
      "execution_count": 0,
      "outputs": []
    },
    {
      "cell_type": "code",
      "metadata": {
        "id": "6nsWgkz7E4u5",
        "colab_type": "code",
        "colab": {}
      },
      "source": [
        "class LeNet5(torch.nn.Module):\n",
        "  def __init__(self,\n",
        "               activation='tanh',\n",
        "               pooling='avg',\n",
        "               conv_size=5,\n",
        "               use_batch_norm=False):\n",
        "    super().__init__()\n",
        "\n",
        "    self.conv_size = conv_size\n",
        "    self.use_batch_norm = use_batch_norm\n",
        "\n",
        "    if activation == 'tanh':\n",
        "      activation_function = torch.nn.Tanh()\n",
        "    elif activation == 'relu':\n",
        "      activation_function = torch.nn.ReLU()\n",
        "    else:\n",
        "      raise NotImplementedError\n",
        "    \n",
        "    if pooling == 'avg':\n",
        "      pooling_layer = torch.nn.AvgPool2d(kernel_size=2, stride=2)\n",
        "    elif pooling == 'max':\n",
        "      pooling_layer = torch.nn.MaxPool2d(kernel_size=2, stride=2)\n",
        "    else:\n",
        "      raise NotImplementedError\n",
        "\n",
        "    if conv_size == 5:\n",
        "      self.conv1 = torch.nn.Conv2d(\n",
        "          in_channels=3, out_channels=6, kernel_size=5, padding=0)\n",
        "    elif conv_size == 3:\n",
        "      self.conv1_1 = torch.nn.Conv2d(\n",
        "          in_channels=3, out_channels=6, kernel_size=3, padding=0)\n",
        "      self.conv1_2 = torch.nn.Conv2d(\n",
        "          in_channels=6, out_channels=6, kernel_size=3, padding=0)\n",
        "    else:\n",
        "      raise NotImplementedError\n",
        "\n",
        "    self.act1 = activation_function\n",
        "    self.bn1 = torch.nn.BatchNorm2d(num_features=6)\n",
        "    self.pool1 = pooling_layer\n",
        "\n",
        "    if conv_size == 5:\n",
        "      self.conv2 = torch.nn.Conv2d(\n",
        "          in_channels=6, out_channels=16, kernel_size=5, padding=0)\n",
        "    elif conv_size == 3:\n",
        "      self.conv2_1 = torch.nn.Conv2d(\n",
        "          in_channels=6, out_channels=16, kernel_size=3, padding=0)\n",
        "      self.conv2_2 = torch.nn.Conv2d(\n",
        "          in_channels=16, out_channels=16, kernel_size=3, padding=0)\n",
        "    else:\n",
        "      raise NotImplementedError\n",
        "\n",
        "    self.act2 = activation_function\n",
        "    self.bn2 = torch.nn.BatchNorm2d(num_features=16)\n",
        "    self.pool2 = pooling_layer\n",
        "\n",
        "\n",
        "    self.fc1 = torch.nn.Linear(5 * 5 * 16, 120)\n",
        "    self.act3 = activation_function\n",
        "\n",
        "    self.fc2 = torch.nn.Linear(120, 84)\n",
        "    self.act4 = activation_function\n",
        "\n",
        "    self.fc3 = torch.nn.Linear(84, 10)\n",
        "\n",
        "  def forward(self, x):\n",
        "    if self.conv_size == 5:\n",
        "      x = self.conv1(x)\n",
        "    elif self.conv_size == 3:\n",
        "      x = self.conv1_2(self.conv1_1(x))\n",
        "    else:\n",
        "      raise NotImplementedError\n",
        "    x = self.act1(x)\n",
        "    if self.use_batch_norm:\n",
        "      x = self.bn1(x)\n",
        "    x = self.pool1(x)\n",
        "\n",
        "    if self.conv_size == 5:\n",
        "      x = self.conv2(x)\n",
        "    elif self.conv_size == 3:\n",
        "      x = self.conv2_2(self.conv2_1(x))\n",
        "    else:\n",
        "      raise NotImplementedError\n",
        "    x = self.act2(x)\n",
        "    if self.use_batch_norm:\n",
        "      x = self.bn2(x)\n",
        "    x = self.pool2(x)\n",
        "\n",
        "    x= x.view(x.size(0), x.size(1) * x.size(2) * x.size(3))\n",
        "\n",
        "    x = self.fc1(x)\n",
        "    x = self.act3(x)\n",
        "\n",
        "    x = self.fc2(x)\n",
        "    x = self.act4(x)\n",
        "\n",
        "    x = self.fc3(x)\n",
        "\n",
        "    return x\n",
        "\n",
        "lenet5 = LeNet5()"
      ],
      "execution_count": 0,
      "outputs": []
    },
    {
      "cell_type": "code",
      "metadata": {
        "id": "Enc9GfpiOF_w",
        "colab_type": "code",
        "outputId": "71d3d897-b8d4-4c43-eab9-2d2b969dfa87",
        "colab": {
          "base_uri": "https://localhost:8080/",
          "height": 289
        }
      },
      "source": [
        "!nvidia-smi"
      ],
      "execution_count": 0,
      "outputs": [
        {
          "output_type": "stream",
          "text": [
            "Sat Feb 22 14:30:22 2020       \n",
            "+-----------------------------------------------------------------------------+\n",
            "| NVIDIA-SMI 440.48.02    Driver Version: 418.67       CUDA Version: 10.1     |\n",
            "|-------------------------------+----------------------+----------------------+\n",
            "| GPU  Name        Persistence-M| Bus-Id        Disp.A | Volatile Uncorr. ECC |\n",
            "| Fan  Temp  Perf  Pwr:Usage/Cap|         Memory-Usage | GPU-Util  Compute M. |\n",
            "|===============================+======================+======================|\n",
            "|   0  Tesla T4            Off  | 00000000:00:04.0 Off |                    0 |\n",
            "| N/A   59C    P0    27W /  70W |   3921MiB / 15079MiB |      0%      Default |\n",
            "+-------------------------------+----------------------+----------------------+\n",
            "                                                                               \n",
            "+-----------------------------------------------------------------------------+\n",
            "| Processes:                                                       GPU Memory |\n",
            "|  GPU       PID   Type   Process name                             Usage      |\n",
            "|=============================================================================|\n",
            "+-----------------------------------------------------------------------------+\n"
          ],
          "name": "stdout"
        }
      ]
    },
    {
      "cell_type": "code",
      "metadata": {
        "id": "TGHAWcB9j0sl",
        "colab_type": "code",
        "outputId": "4d32663d-eee4-45e8-e6dc-b6e55bdf36d8",
        "colab": {
          "base_uri": "https://localhost:8080/",
          "height": 1000
        }
      },
      "source": [
        "def train(net, X_train, y_train, X_test, y_test,\n",
        "          batch_size=100,\n",
        "          lr=1.0e-3,\n",
        "          epoches=30):\n",
        "  device = torch.device('cuda:0' if torch.cuda.is_available() else 'cpu')\n",
        "  net = net.to(device)\n",
        "\n",
        "  loss = torch.nn.CrossEntropyLoss()\n",
        "  optimizer = torch.optim.Adam(net.parameters(), lr=lr)\n",
        "\n",
        "  test_accuracy_history = []\n",
        "  test_loss_history = []\n",
        "\n",
        "  X_test = X_test.to(device)\n",
        "  y_test = y_test.to(device)\n",
        "\n",
        "  for epoch in range(epoches):\n",
        "    order = np.random.permutation(len(X_train))\n",
        "    for start_index in range(0, len(X_train), batch_size):\n",
        "      optimizer.zero_grad()\n",
        "      net.train()\n",
        "\n",
        "      batch_indexes = order[start_index:start_index+batch_size]\n",
        "\n",
        "      X_batch = X_train[batch_indexes].to(device)\n",
        "      y_batch = y_train[batch_indexes].to(device)\n",
        "\n",
        "      preds = net.forward(X_batch)\n",
        "\n",
        "      loss_value = loss(preds, y_batch)\n",
        "      loss_value.backward()\n",
        "\n",
        "      optimizer.step()\n",
        "    \n",
        "    net.eval()\n",
        "    test_preds = net.forward(X_test)\n",
        "    test_loss_history.append(loss(test_preds, y_test).data.cpu())\n",
        "\n",
        "    accuracy = (test_preds.argmax(dim=1) == y_test).float().mean().data.cpu()\n",
        "    test_accuracy_history.append(accuracy)\n",
        "\n",
        "    print(accuracy)\n",
        "  print('-' * 20)\n",
        "  del net\n",
        "  return test_accuracy_history, test_loss_history\n",
        "\n",
        "accuracies = {}\n",
        "losses = {}\n",
        "\n",
        "\n",
        "net = LeNet5(activation='tanh', conv_size=5)\n",
        "accuracies['tanh'], losses['tanh'] = train(net, X_train, y_train, X_test, y_test)\n",
        "\n",
        "net = LeNet5(activation='relu', conv_size=5)\n",
        "accuracies['relu'], losses['relu'] = train(net, X_train, y_train, X_test, y_test)\n",
        "\n",
        "net = LeNet5(activation='relu', conv_size=3)\n",
        "accuracies['relu_3'], losses['relu_3'] = train(net, X_train, y_train, X_test, y_test)\n",
        "\n",
        "net = LeNet5(activation='relu', conv_size=3, pooling='max')\n",
        "accuracies['relu_3_max_pool'], losses['relu_3_max_pool'] = \\\n",
        "  train(net, X_train, y_train, X_test, y_test)\n",
        "\n",
        "net = LeNet5(activation='relu', conv_size=3, pooling='max', use_batch_norm=True)\n",
        "accuracies['relu_3_max_pool_bn'], losses['relu_3_max_pool_bn'] = \\\n",
        "  train(net, X_train, y_train, X_test, y_test)\n"
      ],
      "execution_count": 0,
      "outputs": [
        {
          "output_type": "stream",
          "text": [
            "tensor(0.3923)\n",
            "tensor(0.4534)\n",
            "tensor(0.4835)\n",
            "tensor(0.5126)\n",
            "tensor(0.5079)\n",
            "tensor(0.5231)\n",
            "tensor(0.5297)\n",
            "tensor(0.5340)\n",
            "tensor(0.5501)\n",
            "tensor(0.5562)\n",
            "tensor(0.5520)\n",
            "tensor(0.5557)\n",
            "tensor(0.5550)\n",
            "tensor(0.5599)\n",
            "tensor(0.5542)\n",
            "tensor(0.5594)\n",
            "tensor(0.5544)\n",
            "tensor(0.5623)\n",
            "tensor(0.5559)\n",
            "tensor(0.5571)\n",
            "tensor(0.5533)\n",
            "tensor(0.5549)\n",
            "tensor(0.5522)\n",
            "tensor(0.5508)\n",
            "tensor(0.5508)\n",
            "tensor(0.5512)\n",
            "tensor(0.5509)\n",
            "tensor(0.5461)\n",
            "tensor(0.5510)\n",
            "tensor(0.5515)\n",
            "--------------------\n",
            "tensor(0.3885)\n",
            "tensor(0.4396)\n",
            "tensor(0.4665)\n",
            "tensor(0.5081)\n",
            "tensor(0.5339)\n",
            "tensor(0.5304)\n",
            "tensor(0.5595)\n",
            "tensor(0.5634)\n",
            "tensor(0.5737)\n",
            "tensor(0.5850)\n",
            "tensor(0.5854)\n",
            "tensor(0.5869)\n",
            "tensor(0.5880)\n",
            "tensor(0.5905)\n",
            "tensor(0.5981)\n",
            "tensor(0.5909)\n",
            "tensor(0.6017)\n",
            "tensor(0.6105)\n",
            "tensor(0.6039)\n",
            "tensor(0.5898)\n",
            "tensor(0.6050)\n",
            "tensor(0.6077)\n",
            "tensor(0.6032)\n",
            "tensor(0.6088)\n",
            "tensor(0.6056)\n",
            "tensor(0.6063)\n",
            "tensor(0.6103)\n",
            "tensor(0.6060)\n",
            "tensor(0.6024)\n",
            "tensor(0.6095)\n",
            "--------------------\n",
            "tensor(0.4220)\n",
            "tensor(0.4789)\n",
            "tensor(0.5051)\n",
            "tensor(0.5158)\n",
            "tensor(0.5391)\n",
            "tensor(0.5522)\n",
            "tensor(0.5585)\n",
            "tensor(0.5666)\n",
            "tensor(0.5692)\n",
            "tensor(0.5818)\n",
            "tensor(0.5751)\n",
            "tensor(0.5942)\n",
            "tensor(0.5976)\n",
            "tensor(0.5955)\n",
            "tensor(0.5979)\n",
            "tensor(0.5983)\n",
            "tensor(0.5964)\n",
            "tensor(0.6012)\n",
            "tensor(0.6000)\n",
            "tensor(0.6001)\n",
            "tensor(0.5975)\n",
            "tensor(0.5988)\n",
            "tensor(0.5902)\n",
            "tensor(0.5920)\n",
            "tensor(0.5904)\n",
            "tensor(0.5988)\n",
            "tensor(0.5938)\n",
            "tensor(0.5917)\n",
            "tensor(0.5901)\n",
            "tensor(0.5937)\n",
            "--------------------\n",
            "tensor(0.3802)\n",
            "tensor(0.4284)\n",
            "tensor(0.5006)\n",
            "tensor(0.5098)\n",
            "tensor(0.5493)\n",
            "tensor(0.5758)\n",
            "tensor(0.5877)\n",
            "tensor(0.6039)\n",
            "tensor(0.6109)\n",
            "tensor(0.6315)\n",
            "tensor(0.6220)\n",
            "tensor(0.6294)\n",
            "tensor(0.6397)\n",
            "tensor(0.6433)\n",
            "tensor(0.6399)\n",
            "tensor(0.6432)\n",
            "tensor(0.6369)\n",
            "tensor(0.6297)\n",
            "tensor(0.6570)\n",
            "tensor(0.6580)\n",
            "tensor(0.6465)\n",
            "tensor(0.6370)\n",
            "tensor(0.6498)\n",
            "tensor(0.6461)\n",
            "tensor(0.6492)\n",
            "tensor(0.6547)\n",
            "tensor(0.6432)\n",
            "tensor(0.6505)\n",
            "tensor(0.6552)\n",
            "tensor(0.6522)\n",
            "--------------------\n",
            "tensor(0.5247)\n",
            "tensor(0.6025)\n",
            "tensor(0.6361)\n",
            "tensor(0.6460)\n",
            "tensor(0.6531)\n",
            "tensor(0.6522)\n",
            "tensor(0.6592)\n",
            "tensor(0.6639)\n",
            "tensor(0.6519)\n",
            "tensor(0.6616)\n",
            "tensor(0.6564)\n",
            "tensor(0.6496)\n",
            "tensor(0.6554)\n",
            "tensor(0.6511)\n",
            "tensor(0.6456)\n",
            "tensor(0.6382)\n",
            "tensor(0.6438)\n",
            "tensor(0.6359)\n",
            "tensor(0.6361)\n",
            "tensor(0.6423)\n",
            "tensor(0.6285)\n",
            "tensor(0.6357)\n",
            "tensor(0.6320)\n",
            "tensor(0.6317)\n",
            "tensor(0.6286)\n",
            "tensor(0.6313)\n",
            "tensor(0.6368)\n",
            "tensor(0.6252)\n",
            "tensor(0.6208)\n",
            "tensor(0.6255)\n",
            "--------------------\n"
          ],
          "name": "stdout"
        }
      ]
    },
    {
      "cell_type": "code",
      "metadata": {
        "id": "a80SssDxopLn",
        "colab_type": "code",
        "outputId": "6832b37e-e65a-44da-e768-8ea954862e80",
        "colab": {
          "base_uri": "https://localhost:8080/",
          "height": 281
        }
      },
      "source": [
        "for experiment_id in accuracies.keys():\n",
        "  plt.plot(accuracies[experiment_id], label=experiment_id)\n",
        "plt.legend()\n",
        "plt.title('Validation Accuracy');"
      ],
      "execution_count": 0,
      "outputs": [
        {
          "output_type": "display_data",
          "data": {
            "image/png": "[encoded data removed]",
            "text/plain": [
              "<Figure size 432x288 with 1 Axes>"
            ]
          },
          "metadata": {
            "tags": []
          }
        }
      ]
    },
    {
      "cell_type": "code",
      "metadata": {
        "id": "DG7glWjQpdVJ",
        "colab_type": "code",
        "outputId": "32bd493e-46eb-4c4f-ca18-cc49a03626ce",
        "colab": {
          "base_uri": "https://localhost:8080/",
          "height": 281
        }
      },
      "source": [
        "for experiment_id in losses.keys():\n",
        "  plt.plot(losses[experiment_id], label=experiment_id)\n",
        "plt.legend()\n",
        "plt.title('Validation Loss');"
      ],
      "execution_count": 0,
      "outputs": [
        {
          "output_type": "display_data",
          "data": {
            "image/png": "[encoded data removed]",
            "text/plain": [
              "<Figure size 432x288 with 1 Axes>"
            ]
          },
          "metadata": {
            "tags": []
          }
        }
      ]
    }
  ]
}