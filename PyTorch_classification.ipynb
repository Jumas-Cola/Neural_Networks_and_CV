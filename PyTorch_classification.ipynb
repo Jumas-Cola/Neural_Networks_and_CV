{
  "nbformat": 4,
  "nbformat_minor": 0,
  "metadata": {
    "colab": {
      "name": "PyTorch_classification",
      "provenance": [],
      "collapsed_sections": [],
      "authorship_tag": "ABX9TyP0ndD9YfMIK5vfSDw4SoHL",
      "include_colab_link": true
    },
    "kernelspec": {
      "name": "python3",
      "display_name": "Python 3"
    },
    "accelerator": "GPU"
  },
  "cells": [
    {
      "cell_type": "markdown",
      "metadata": {
        "id": "view-in-github",
        "colab_type": "text"
      },
      "source": [
        "<a href=\"https://colab.research.google.com/github/Jumas-Cola/Neural_Networks_and_CV/blob/master/PyTorch_classification.ipynb\" target=\"_parent\"><img src=\"https://colab.research.google.com/assets/colab-badge.svg\" alt=\"Open In Colab\"/></a>"
      ]
    },
    {
      "cell_type": "code",
      "metadata": {
        "id": "HBNoI5LSWpUT",
        "colab_type": "code",
        "colab": {}
      },
      "source": [
        "import torch\n",
        "import random\n",
        "import numpy as np\n",
        "\n",
        "random.seed(0)\n",
        "np.random.seed(0)\n",
        "torch.manual_seed(0)\n",
        "torch.cuda.manual_seed(0)\n",
        "torch.backends.cudnn.deterministic = True"
      ],
      "execution_count": 0,
      "outputs": []
    },
    {
      "cell_type": "code",
      "metadata": {
        "id": "x36Aci-Ut-Cv",
        "colab_type": "code",
        "outputId": "106312b8-ccc7-47d2-e8e4-8d0d791ae41f",
        "colab": {
          "base_uri": "https://localhost:8080/",
          "height": 34
        }
      },
      "source": [
        "import sklearn.datasets\n",
        "wine = sklearn.datasets.load_wine()\n",
        "wine.data.shape"
      ],
      "execution_count": 68,
      "outputs": [
        {
          "output_type": "execute_result",
          "data": {
            "text/plain": [
              "(178, 13)"
            ]
          },
          "metadata": {
            "tags": []
          },
          "execution_count": 68
        }
      ]
    },
    {
      "cell_type": "code",
      "metadata": {
        "id": "pRdDyXiNuLUw",
        "colab_type": "code",
        "colab": {}
      },
      "source": [
        "from sklearn.model_selection import train_test_split\n",
        "\n",
        "X_train, X_test, y_train, y_test = train_test_split(\n",
        "    wine.data[:, :2],\n",
        "    wine.target,\n",
        "    test_size=0.3,\n",
        "    shuffle=True\n",
        ")\n",
        "\n",
        "X_train = torch.FloatTensor(X_train)\n",
        "X_test = torch.FloatTensor(X_test)\n",
        "y_train = torch.LongTensor(y_train)\n",
        "y_test = torch.LongTensor(y_test)"
      ],
      "execution_count": 0,
      "outputs": []
    },
    {
      "cell_type": "code",
      "metadata": {
        "id": "6yEUiUi_v7mO",
        "colab_type": "code",
        "colab": {}
      },
      "source": [
        "class WineNet(torch.nn.Module):\n",
        "  def __init__(self, n_hidden_neurons):\n",
        "    super().__init__()\n",
        "    self.fc1 = torch.nn.Linear(2, n_hidden_neurons)\n",
        "    self.act1 = torch.nn.Sigmoid()\n",
        "    self.fc2 = torch.nn.Linear(n_hidden_neurons, n_hidden_neurons)\n",
        "    self.act2 = torch.nn.Sigmoid()\n",
        "    self.fc3 = torch.nn.Linear(n_hidden_neurons, 3)\n",
        "    self.sm = torch.nn.Softmax(dim=1)\n",
        "  \n",
        "  def forward(self, x):\n",
        "    x = self.fc1(x)\n",
        "    x = self.act1(x)\n",
        "    x = self.fc2(x)\n",
        "    x = self.act2(x)\n",
        "    x = self.fc3(x)\n",
        "    return x\n",
        "  \n",
        "  def interference(self, x):\n",
        "    x = self.forward(x)\n",
        "    x = self.sm(x)\n",
        "    return x\n",
        "\n",
        "wine_net = WineNet(5)"
      ],
      "execution_count": 0,
      "outputs": []
    },
    {
      "cell_type": "code",
      "metadata": {
        "id": "nqqXS-sB-7z7",
        "colab_type": "code",
        "colab": {}
      },
      "source": [
        "loss = torch.nn.CrossEntropyLoss()\n",
        "\n",
        "optimizer = torch.optim.Adam(wine_net.parameters(), lr=1.0e-3)"
      ],
      "execution_count": 0,
      "outputs": []
    },
    {
      "cell_type": "code",
      "metadata": {
        "id": "9GJ32tJbYAQ3",
        "colab_type": "code",
        "colab": {
          "base_uri": "https://localhost:8080/",
          "height": 34
        },
        "outputId": "e74f99ee-3990-49db-cf88-2e13bd6f06d5"
      },
      "source": [
        "np.random.permutation(5)"
      ],
      "execution_count": 72,
      "outputs": [
        {
          "output_type": "execute_result",
          "data": {
            "text/plain": [
              "array([2, 0, 1, 4, 3])"
            ]
          },
          "metadata": {
            "tags": []
          },
          "execution_count": 72
        }
      ]
    },
    {
      "cell_type": "code",
      "metadata": {
        "id": "DxnDw-Vd9IIn",
        "colab_type": "code",
        "colab": {
          "base_uri": "https://localhost:8080/",
          "height": 1000
        },
        "outputId": "2ac7980d-e1e5-4e05-f910-17625bc54ebc"
      },
      "source": [
        "%matplotlib inline\n",
        "import matplotlib.pyplot as plt\n",
        "import matplotlib.animation as animation\n",
        "\n",
        "batch_size = 10\n",
        "\n",
        "plt.rcParams['figure.figsize'] = (10, 8)\n",
        "\n",
        "n_classes = 3\n",
        "plot_colors = ['g', 'orange', 'black']\n",
        "plot_step = 0.02\n",
        "\n",
        "x_min, x_max = X_train[:, 0].min() - 1, X_train[:, 0].max() + 1\n",
        "y_min, y_max = X_train[:, 1].min() - 1, X_train[:, 1].max() + 1\n",
        "xx, yy = torch.meshgrid(torch.arange(x_min, x_max, plot_step),\n",
        "                          torch.arange(y_min, y_max, plot_step))\n",
        "\n",
        "fig, ax = plt.subplots()\n",
        "\n",
        "def animate(frame):\n",
        "  epoches_per_frame = 10\n",
        "  ################################### Train <epoches_per_frame> epoches\n",
        "  for epoch in range(epoches_per_frame):\n",
        "    order = np.random.permutation(len(X_train))\n",
        "    for start_index in range(0, len(X_train), batch_size):\n",
        "      optimizer.zero_grad()\n",
        "\n",
        "      batch_indexes = order[start_index:start_index+batch_size]\n",
        "\n",
        "      x_batch = X_train[batch_indexes]\n",
        "      y_batch = y_train[batch_indexes]\n",
        "\n",
        "      preds = wine_net.forward(x_batch)\n",
        "\n",
        "      loss_val = loss(preds, y_batch)\n",
        "      loss_val.backward()\n",
        "\n",
        "      optimizer.step()\n",
        "    \n",
        "    if (epoches_per_frame * frame + epoch) % 100 == 0:\n",
        "      test_preds = wine_net.forward(X_test)\n",
        "      test_preds = test_preds.argmax(dim=1)\n",
        "      print((test_preds == y_test).float().mean(),\n",
        "            'Epoch: ', epoches_per_frame * frame + epoch)\n",
        "\n",
        "  ################################### Plotting current frame\n",
        "  plt.cla() # clear plot field\n",
        "  preds = wine_net.interference(torch.cat([xx.reshape(-1, 1), yy.reshape(-1, 1)], dim=1))\n",
        "  preds_class = preds.data.numpy().argmax(axis=1)\n",
        "  preds_class = preds_class.reshape(xx.shape)\n",
        "  plt.contourf(xx, yy, preds_class, cmap='Accent')\n",
        "\n",
        "  for i, color in zip(range(n_classes), plot_colors):\n",
        "    indexes = np.where(y_train == i)\n",
        "    plt.scatter(X_train[indexes, 0],\n",
        "                X_train[indexes, 1],\n",
        "                c=color,\n",
        "                label=wine.target_names[i],\n",
        "                cmap='Accent')\n",
        "    plt.xlabel(wine.feature_names[0])\n",
        "    plt.ylabel(wine.feature_names[1])\n",
        "    plt.legend()\n",
        "  plt.text(0.8, 0.1, 'Epoch: {}'.format(epoches_per_frame * frame),\n",
        "            horizontalalignment='center',\n",
        "            verticalalignment='center',\n",
        "            transform=ax.transAxes)\n",
        "\n",
        "\n",
        "ani = animation.FuncAnimation(fig, animate, interval=100, frames=1000)\n",
        "ani.save('train.gif', writer='imagemagick')\n"
      ],
      "execution_count": 73,
      "outputs": [
        {
          "output_type": "stream",
          "text": [
            "MovieWriter imagemagick unavailable; trying to use <class 'matplotlib.animation.PillowWriter'> instead.\n"
          ],
          "name": "stderr"
        },
        {
          "output_type": "stream",
          "text": [
            "tensor(0.4074) Epoch:  0\n",
            "tensor(0.4074) Epoch:  0\n",
            "tensor(0.4074) Epoch:  100\n",
            "tensor(0.4630) Epoch:  200\n",
            "tensor(0.4444) Epoch:  300\n",
            "tensor(0.4630) Epoch:  400\n",
            "tensor(0.5370) Epoch:  500\n",
            "tensor(0.4444) Epoch:  600\n",
            "tensor(0.3889) Epoch:  700\n",
            "tensor(0.4074) Epoch:  800\n",
            "tensor(0.5370) Epoch:  900\n",
            "tensor(0.5370) Epoch:  1000\n",
            "tensor(0.5370) Epoch:  1100\n",
            "tensor(0.6481) Epoch:  1200\n",
            "tensor(0.5370) Epoch:  1300\n",
            "tensor(0.7037) Epoch:  1400\n",
            "tensor(0.6481) Epoch:  1500\n",
            "tensor(0.6667) Epoch:  1600\n",
            "tensor(0.6667) Epoch:  1700\n",
            "tensor(0.6852) Epoch:  1800\n",
            "tensor(0.6852) Epoch:  1900\n",
            "tensor(0.7222) Epoch:  2000\n",
            "tensor(0.7222) Epoch:  2100\n",
            "tensor(0.7222) Epoch:  2200\n",
            "tensor(0.7222) Epoch:  2300\n",
            "tensor(0.7222) Epoch:  2400\n",
            "tensor(0.7593) Epoch:  2500\n",
            "tensor(0.7778) Epoch:  2600\n",
            "tensor(0.7963) Epoch:  2700\n",
            "tensor(0.7963) Epoch:  2800\n",
            "tensor(0.8148) Epoch:  2900\n",
            "tensor(0.8148) Epoch:  3000\n",
            "tensor(0.8148) Epoch:  3100\n",
            "tensor(0.8148) Epoch:  3200\n",
            "tensor(0.8333) Epoch:  3300\n",
            "tensor(0.8333) Epoch:  3400\n",
            "tensor(0.8333) Epoch:  3500\n",
            "tensor(0.8333) Epoch:  3600\n",
            "tensor(0.8333) Epoch:  3700\n",
            "tensor(0.8519) Epoch:  3800\n",
            "tensor(0.8519) Epoch:  3900\n",
            "tensor(0.8519) Epoch:  4000\n",
            "tensor(0.8519) Epoch:  4100\n",
            "tensor(0.8519) Epoch:  4200\n",
            "tensor(0.8519) Epoch:  4300\n",
            "tensor(0.8519) Epoch:  4400\n",
            "tensor(0.8519) Epoch:  4500\n",
            "tensor(0.8519) Epoch:  4600\n",
            "tensor(0.8519) Epoch:  4700\n",
            "tensor(0.8519) Epoch:  4800\n",
            "tensor(0.8704) Epoch:  4900\n",
            "tensor(0.8704) Epoch:  5000\n",
            "tensor(0.8704) Epoch:  5100\n",
            "tensor(0.8704) Epoch:  5200\n",
            "tensor(0.8704) Epoch:  5300\n",
            "tensor(0.8704) Epoch:  5400\n",
            "tensor(0.8704) Epoch:  5500\n",
            "tensor(0.8704) Epoch:  5600\n",
            "tensor(0.8889) Epoch:  5700\n",
            "tensor(0.8889) Epoch:  5800\n",
            "tensor(0.8889) Epoch:  5900\n",
            "tensor(0.8889) Epoch:  6000\n",
            "tensor(0.8889) Epoch:  6100\n",
            "tensor(0.8889) Epoch:  6200\n",
            "tensor(0.9074) Epoch:  6300\n",
            "tensor(0.8704) Epoch:  6400\n",
            "tensor(0.8889) Epoch:  6500\n",
            "tensor(0.8704) Epoch:  6600\n",
            "tensor(0.8704) Epoch:  6700\n",
            "tensor(0.9259) Epoch:  6800\n",
            "tensor(0.8704) Epoch:  6900\n",
            "tensor(0.9074) Epoch:  7000\n",
            "tensor(0.8704) Epoch:  7100\n",
            "tensor(0.8889) Epoch:  7200\n",
            "tensor(0.8704) Epoch:  7300\n",
            "tensor(0.8519) Epoch:  7400\n",
            "tensor(0.8519) Epoch:  7500\n",
            "tensor(0.8704) Epoch:  7600\n",
            "tensor(0.8519) Epoch:  7700\n",
            "tensor(0.8519) Epoch:  7800\n",
            "tensor(0.8519) Epoch:  7900\n",
            "tensor(0.8519) Epoch:  8000\n",
            "tensor(0.8704) Epoch:  8100\n",
            "tensor(0.8704) Epoch:  8200\n",
            "tensor(0.8519) Epoch:  8300\n",
            "tensor(0.8704) Epoch:  8400\n",
            "tensor(0.8519) Epoch:  8500\n",
            "tensor(0.8333) Epoch:  8600\n",
            "tensor(0.8519) Epoch:  8700\n",
            "tensor(0.8519) Epoch:  8800\n",
            "tensor(0.8519) Epoch:  8900\n",
            "tensor(0.8519) Epoch:  9000\n",
            "tensor(0.8519) Epoch:  9100\n",
            "tensor(0.8519) Epoch:  9200\n",
            "tensor(0.8519) Epoch:  9300\n",
            "tensor(0.8704) Epoch:  9400\n",
            "tensor(0.8519) Epoch:  9500\n",
            "tensor(0.8704) Epoch:  9600\n",
            "tensor(0.8704) Epoch:  9700\n",
            "tensor(0.8519) Epoch:  9800\n",
            "tensor(0.8704) Epoch:  9900\n",
            "tensor(0.8704) Epoch:  0\n"
          ],
          "name": "stdout"
        },
        {
          "output_type": "display_data",
          "data": {
            "image/png": "[encoded data removed]",
            "text/plain": [
              "<Figure size 720x576 with 1 Axes>"
            ]
          },
          "metadata": {
            "tags": []
          }
        }
      ]
    }
  ]
}