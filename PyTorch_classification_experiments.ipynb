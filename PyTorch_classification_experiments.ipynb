{
  "nbformat": 4,
  "nbformat_minor": 0,
  "metadata": {
    "colab": {
      "name": "PyTorch_classification_experiments",
      "provenance": [],
      "collapsed_sections": [],
      "authorship_tag": "ABX9TyO69e/8ZhPgibJ7u8xfuZzv",
      "include_colab_link": true
    },
    "kernelspec": {
      "name": "python3",
      "display_name": "Python 3"
    }
  },
  "cells": [
    {
      "cell_type": "markdown",
      "metadata": {
        "id": "view-in-github",
        "colab_type": "text"
      },
      "source": [
        "<a href=\"https://colab.research.google.com/github/Jumas-Cola/Neural_Networks_and_CV/blob/master/PyTorch_classification_experiments.ipynb\" target=\"_parent\"><img src=\"https://colab.research.google.com/assets/colab-badge.svg\" alt=\"Open In Colab\"/></a>"
      ]
    },
    {
      "cell_type": "code",
      "metadata": {
        "id": "Vmha_OKSxIiQ",
        "colab_type": "code",
        "colab": {}
      },
      "source": [
        "%matplotlib inline\n",
        "import torch\n",
        "import random\n",
        "import numpy as np\n",
        "from sklearn.model_selection import train_test_split\n",
        "from sklearn.datasets import load_wine\n",
        "import matplotlib.pyplot as plt"
      ],
      "execution_count": 0,
      "outputs": []
    },
    {
      "cell_type": "code",
      "metadata": {
        "id": "pibW-GrCxNu8",
        "colab_type": "code",
        "colab": {
          "base_uri": "https://localhost:8080/",
          "height": 296
        },
        "outputId": "1dcce0bf-8121-4b7b-d76f-4abaf1284d62"
      },
      "source": [
        "class WineNet(torch.nn.Module):\n",
        "    def __init__(self,n_input, n_hidden_neurons):\n",
        "        super(WineNet, self).__init__()\n",
        "        self.fc1 = torch.nn.Linear(n_input, n_hidden_neurons)\n",
        "        self.activ1 = torch.nn.Sigmoid() # your code here\n",
        "        self.fc2 = torch.nn.Linear(n_hidden_neurons, n_hidden_neurons)\n",
        "        self.activ2 = torch.nn.Sigmoid() # your code here\n",
        "        self.fc3 = torch.nn.Linear(n_hidden_neurons, 3)\n",
        "        self.sm = torch.nn.Softmax(dim=1)\n",
        "        \n",
        "    def forward(self, x):\n",
        "        x = self.fc1(x)\n",
        "        x = self.activ1(x)\n",
        "        x = self.fc2(x)\n",
        "        x = self.activ2(x)\n",
        "        x = self.fc3(x)\n",
        "        return x\n",
        "\n",
        "    def inference(self, x):\n",
        "        x = self.forward(x)\n",
        "        x = self.sm(x)\n",
        "        return x\n",
        "\n",
        "wine = load_wine()\n",
        "features = 13 # use 13 features\n",
        "\n",
        "accuracy_from_val = []\n",
        "\n",
        "n_input = features # choose number of input neurons\n",
        "n_hidden = 5 # choose number of hidden neurons\n",
        "test_size = 0.03\n",
        "# batch_size = 1000 # choose different batch sizes\n",
        "epoches = 2000\n",
        "import time\n",
        "\n",
        "for batch_size in range(10, 300, 10):\n",
        "\n",
        "  start_time = time.time()\n",
        "  \n",
        "  X_train, X_test, y_train, y_test = train_test_split(\n",
        "      wine.data[:, :features],\n",
        "      wine.target, \n",
        "      test_size=test_size,\n",
        "      shuffle=True)\n",
        "\n",
        "  X_train = torch.FloatTensor(X_train)\n",
        "  X_test = torch.FloatTensor(X_test)\n",
        "  y_train = torch.LongTensor(y_train)\n",
        "  y_test = torch.LongTensor(y_test)\n",
        "\n",
        "  wine_net = WineNet(n_input, n_hidden)\n",
        "\n",
        "  loss = torch.nn.CrossEntropyLoss()\n",
        "  optimizer = torch.optim.Adam(wine_net.parameters(), lr=1.0e-3)\n",
        "\n",
        "  for epoch in range(epoches):\n",
        "      order = np.random.permutation(len(X_train))\n",
        "      for start_index in range(0, len(X_train), batch_size):\n",
        "          optimizer.zero_grad()\n",
        "          \n",
        "          batch_indexes = order[start_index:start_index+batch_size]\n",
        "          \n",
        "          x_batch = X_train[batch_indexes]\n",
        "          y_batch = y_train[batch_indexes]\n",
        "          \n",
        "          preds = wine_net.forward(x_batch) \n",
        "          \n",
        "          loss_value = loss(preds, y_batch)\n",
        "          loss_value.backward()\n",
        "          \n",
        "          optimizer.step()\n",
        "          \n",
        "      if epoch % 10 == 0:\n",
        "           test_preds = wine_net.forward(X_test)\n",
        "           test_preds = test_preds.argmax(dim=1)\n",
        "      #     print(np.asarray((test_preds == y_test).float().mean()))\n",
        "\n",
        "  accuracy = np.asarray((test_preds == y_test).float().mean())\n",
        "  accuracy_from_val.append((batch_size, time.time() - start_time))\n",
        "  # print(wine_net.fc1.in_features, accuracy > 0.8, accuracy, n_hidden)\n",
        "  # need to get 13 True\n",
        "\n",
        "plt.tick_params(axis='x', colors='w')\n",
        "plt.tick_params(axis='y', colors='w')\n",
        "plt.xlabel('batch_size', c='w')\n",
        "plt.ylabel('time', c='w')\n",
        "plt.plot([i[0] for i in accuracy_from_val],\n",
        "         [i[1] for i in accuracy_from_val], 'o')\n",
        "plt.title('Accuracy from batch_size', c='w');\n",
        "plt.show()"
      ],
      "execution_count": 37,
      "outputs": [
        {
          "output_type": "display_data",
          "data": {
            "image/png": "[encoded data removed]",
            "text/plain": [
              "<Figure size 432x288 with 1 Axes>"
            ]
          },
          "metadata": {
            "tags": []
          }
        }
      ]
    }
  ]
}