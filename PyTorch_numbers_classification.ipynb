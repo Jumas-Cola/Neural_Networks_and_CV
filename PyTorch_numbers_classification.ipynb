{
  "nbformat": 4,
  "nbformat_minor": 0,
  "metadata": {
    "colab": {
      "name": "PyTorch_numbers_classification.ipynb",
      "provenance": [],
      "collapsed_sections": [],
      "authorship_tag": "ABX9TyMfcM9V69qXOYsTULWyeUFB",
      "include_colab_link": true
    },
    "kernelspec": {
      "name": "python3",
      "display_name": "Python 3"
    },
    "accelerator": "GPU",
    "widgets": {
      "application/vnd.jupyter.widget-state+json": {
        "e793b6d246904bbbbe78f36ae9843cf9": {
          "model_module": "@jupyter-widgets/controls",
          "model_name": "HBoxModel",
          "state": {
            "_view_name": "HBoxView",
            "_dom_classes": [],
            "_model_name": "HBoxModel",
            "_view_module": "@jupyter-widgets/controls",
            "_model_module_version": "1.5.0",
            "_view_count": null,
            "_view_module_version": "1.5.0",
            "box_style": "",
            "layout": "IPY_MODEL_98b29f5398764336ab7818c5eed01b08",
            "_model_module": "@jupyter-widgets/controls",
            "children": [
              "IPY_MODEL_09f6840106cf47e2994e489e0f0b8325",
              "IPY_MODEL_b9669b6505ca4266b9d547824684b9b9"
            ]
          }
        },
        "98b29f5398764336ab7818c5eed01b08": {
          "model_module": "@jupyter-widgets/base",
          "model_name": "LayoutModel",
          "state": {
            "_view_name": "LayoutView",
            "grid_template_rows": null,
            "right": null,
            "justify_content": null,
            "_view_module": "@jupyter-widgets/base",
            "overflow": null,
            "_model_module_version": "1.2.0",
            "_view_count": null,
            "flex_flow": null,
            "width": null,
            "min_width": null,
            "border": null,
            "align_items": null,
            "bottom": null,
            "_model_module": "@jupyter-widgets/base",
            "top": null,
            "grid_column": null,
            "overflow_y": null,
            "overflow_x": null,
            "grid_auto_flow": null,
            "grid_area": null,
            "grid_template_columns": null,
            "flex": null,
            "_model_name": "LayoutModel",
            "justify_items": null,
            "grid_row": null,
            "max_height": null,
            "align_content": null,
            "visibility": null,
            "align_self": null,
            "height": null,
            "min_height": null,
            "padding": null,
            "grid_auto_rows": null,
            "grid_gap": null,
            "max_width": null,
            "order": null,
            "_view_module_version": "1.2.0",
            "grid_template_areas": null,
            "object_position": null,
            "object_fit": null,
            "grid_auto_columns": null,
            "margin": null,
            "display": null,
            "left": null
          }
        },
        "09f6840106cf47e2994e489e0f0b8325": {
          "model_module": "@jupyter-widgets/controls",
          "model_name": "IntProgressModel",
          "state": {
            "_view_name": "ProgressView",
            "style": "IPY_MODEL_13e7349d5a6b45d080647228ba221b73",
            "_dom_classes": [],
            "description": "",
            "_model_name": "IntProgressModel",
            "bar_style": "success",
            "max": 1,
            "_view_module": "@jupyter-widgets/controls",
            "_model_module_version": "1.5.0",
            "value": 1,
            "_view_count": null,
            "_view_module_version": "1.5.0",
            "orientation": "horizontal",
            "min": 0,
            "description_tooltip": null,
            "_model_module": "@jupyter-widgets/controls",
            "layout": "IPY_MODEL_e37109e12f1646b1adc3af5031fffa05"
          }
        },
        "b9669b6505ca4266b9d547824684b9b9": {
          "model_module": "@jupyter-widgets/controls",
          "model_name": "HTMLModel",
          "state": {
            "_view_name": "HTMLView",
            "style": "IPY_MODEL_73976d84c2214e2a917abd42b095a85e",
            "_dom_classes": [],
            "description": "",
            "_model_name": "HTMLModel",
            "placeholder": "​",
            "_view_module": "@jupyter-widgets/controls",
            "_model_module_version": "1.5.0",
            "value": "9920512it [00:01, 8883823.35it/s]",
            "_view_count": null,
            "_view_module_version": "1.5.0",
            "description_tooltip": null,
            "_model_module": "@jupyter-widgets/controls",
            "layout": "IPY_MODEL_67544dd05ba04aacb138725224124591"
          }
        },
        "13e7349d5a6b45d080647228ba221b73": {
          "model_module": "@jupyter-widgets/controls",
          "model_name": "ProgressStyleModel",
          "state": {
            "_view_name": "StyleView",
            "_model_name": "ProgressStyleModel",
            "description_width": "",
            "_view_module": "@jupyter-widgets/base",
            "_model_module_version": "1.5.0",
            "_view_count": null,
            "_view_module_version": "1.2.0",
            "bar_color": null,
            "_model_module": "@jupyter-widgets/controls"
          }
        },
        "e37109e12f1646b1adc3af5031fffa05": {
          "model_module": "@jupyter-widgets/base",
          "model_name": "LayoutModel",
          "state": {
            "_view_name": "LayoutView",
            "grid_template_rows": null,
            "right": null,
            "justify_content": null,
            "_view_module": "@jupyter-widgets/base",
            "overflow": null,
            "_model_module_version": "1.2.0",
            "_view_count": null,
            "flex_flow": null,
            "width": null,
            "min_width": null,
            "border": null,
            "align_items": null,
            "bottom": null,
            "_model_module": "@jupyter-widgets/base",
            "top": null,
            "grid_column": null,
            "overflow_y": null,
            "overflow_x": null,
            "grid_auto_flow": null,
            "grid_area": null,
            "grid_template_columns": null,
            "flex": null,
            "_model_name": "LayoutModel",
            "justify_items": null,
            "grid_row": null,
            "max_height": null,
            "align_content": null,
            "visibility": null,
            "align_self": null,
            "height": null,
            "min_height": null,
            "padding": null,
            "grid_auto_rows": null,
            "grid_gap": null,
            "max_width": null,
            "order": null,
            "_view_module_version": "1.2.0",
            "grid_template_areas": null,
            "object_position": null,
            "object_fit": null,
            "grid_auto_columns": null,
            "margin": null,
            "display": null,
            "left": null
          }
        },
        "73976d84c2214e2a917abd42b095a85e": {
          "model_module": "@jupyter-widgets/controls",
          "model_name": "DescriptionStyleModel",
          "state": {
            "_view_name": "StyleView",
            "_model_name": "DescriptionStyleModel",
            "description_width": "",
            "_view_module": "@jupyter-widgets/base",
            "_model_module_version": "1.5.0",
            "_view_count": null,
            "_view_module_version": "1.2.0",
            "_model_module": "@jupyter-widgets/controls"
          }
        },
        "67544dd05ba04aacb138725224124591": {
          "model_module": "@jupyter-widgets/base",
          "model_name": "LayoutModel",
          "state": {
            "_view_name": "LayoutView",
            "grid_template_rows": null,
            "right": null,
            "justify_content": null,
            "_view_module": "@jupyter-widgets/base",
            "overflow": null,
            "_model_module_version": "1.2.0",
            "_view_count": null,
            "flex_flow": null,
            "width": null,
            "min_width": null,
            "border": null,
            "align_items": null,
            "bottom": null,
            "_model_module": "@jupyter-widgets/base",
            "top": null,
            "grid_column": null,
            "overflow_y": null,
            "overflow_x": null,
            "grid_auto_flow": null,
            "grid_area": null,
            "grid_template_columns": null,
            "flex": null,
            "_model_name": "LayoutModel",
            "justify_items": null,
            "grid_row": null,
            "max_height": null,
            "align_content": null,
            "visibility": null,
            "align_self": null,
            "height": null,
            "min_height": null,
            "padding": null,
            "grid_auto_rows": null,
            "grid_gap": null,
            "max_width": null,
            "order": null,
            "_view_module_version": "1.2.0",
            "grid_template_areas": null,
            "object_position": null,
            "object_fit": null,
            "grid_auto_columns": null,
            "margin": null,
            "display": null,
            "left": null
          }
        },
        "5d610ba0a4dc4d9e877422fff58892a7": {
          "model_module": "@jupyter-widgets/controls",
          "model_name": "HBoxModel",
          "state": {
            "_view_name": "HBoxView",
            "_dom_classes": [],
            "_model_name": "HBoxModel",
            "_view_module": "@jupyter-widgets/controls",
            "_model_module_version": "1.5.0",
            "_view_count": null,
            "_view_module_version": "1.5.0",
            "box_style": "",
            "layout": "IPY_MODEL_2f11129708d24e73aee90d61c212ae38",
            "_model_module": "@jupyter-widgets/controls",
            "children": [
              "IPY_MODEL_face9de143e8443989ce723b737ecd80",
              "IPY_MODEL_eb4d0cc5e9e7449386cfe7f0ac4fb397"
            ]
          }
        },
        "2f11129708d24e73aee90d61c212ae38": {
          "model_module": "@jupyter-widgets/base",
          "model_name": "LayoutModel",
          "state": {
            "_view_name": "LayoutView",
            "grid_template_rows": null,
            "right": null,
            "justify_content": null,
            "_view_module": "@jupyter-widgets/base",
            "overflow": null,
            "_model_module_version": "1.2.0",
            "_view_count": null,
            "flex_flow": null,
            "width": null,
            "min_width": null,
            "border": null,
            "align_items": null,
            "bottom": null,
            "_model_module": "@jupyter-widgets/base",
            "top": null,
            "grid_column": null,
            "overflow_y": null,
            "overflow_x": null,
            "grid_auto_flow": null,
            "grid_area": null,
            "grid_template_columns": null,
            "flex": null,
            "_model_name": "LayoutModel",
            "justify_items": null,
            "grid_row": null,
            "max_height": null,
            "align_content": null,
            "visibility": null,
            "align_self": null,
            "height": null,
            "min_height": null,
            "padding": null,
            "grid_auto_rows": null,
            "grid_gap": null,
            "max_width": null,
            "order": null,
            "_view_module_version": "1.2.0",
            "grid_template_areas": null,
            "object_position": null,
            "object_fit": null,
            "grid_auto_columns": null,
            "margin": null,
            "display": null,
            "left": null
          }
        },
        "face9de143e8443989ce723b737ecd80": {
          "model_module": "@jupyter-widgets/controls",
          "model_name": "IntProgressModel",
          "state": {
            "_view_name": "ProgressView",
            "style": "IPY_MODEL_39ff98e5bd094ef9993b6dc7fc0c1b66",
            "_dom_classes": [],
            "description": "",
            "_model_name": "IntProgressModel",
            "bar_style": "success",
            "max": 1,
            "_view_module": "@jupyter-widgets/controls",
            "_model_module_version": "1.5.0",
            "value": 1,
            "_view_count": null,
            "_view_module_version": "1.5.0",
            "orientation": "horizontal",
            "min": 0,
            "description_tooltip": null,
            "_model_module": "@jupyter-widgets/controls",
            "layout": "IPY_MODEL_27a292cf73d74e45b9fe749f29db3f99"
          }
        },
        "eb4d0cc5e9e7449386cfe7f0ac4fb397": {
          "model_module": "@jupyter-widgets/controls",
          "model_name": "HTMLModel",
          "state": {
            "_view_name": "HTMLView",
            "style": "IPY_MODEL_bc0a1addd76b4b6ebf3427c23f148d17",
            "_dom_classes": [],
            "description": "",
            "_model_name": "HTMLModel",
            "placeholder": "​",
            "_view_module": "@jupyter-widgets/controls",
            "_model_module_version": "1.5.0",
            "value": "32768it [00:00, 91315.25it/s]",
            "_view_count": null,
            "_view_module_version": "1.5.0",
            "description_tooltip": null,
            "_model_module": "@jupyter-widgets/controls",
            "layout": "IPY_MODEL_4dd80e406cd64e2eb7daa0d48f3a1b98"
          }
        },
        "39ff98e5bd094ef9993b6dc7fc0c1b66": {
          "model_module": "@jupyter-widgets/controls",
          "model_name": "ProgressStyleModel",
          "state": {
            "_view_name": "StyleView",
            "_model_name": "ProgressStyleModel",
            "description_width": "",
            "_view_module": "@jupyter-widgets/base",
            "_model_module_version": "1.5.0",
            "_view_count": null,
            "_view_module_version": "1.2.0",
            "bar_color": null,
            "_model_module": "@jupyter-widgets/controls"
          }
        },
        "27a292cf73d74e45b9fe749f29db3f99": {
          "model_module": "@jupyter-widgets/base",
          "model_name": "LayoutModel",
          "state": {
            "_view_name": "LayoutView",
            "grid_template_rows": null,
            "right": null,
            "justify_content": null,
            "_view_module": "@jupyter-widgets/base",
            "overflow": null,
            "_model_module_version": "1.2.0",
            "_view_count": null,
            "flex_flow": null,
            "width": null,
            "min_width": null,
            "border": null,
            "align_items": null,
            "bottom": null,
            "_model_module": "@jupyter-widgets/base",
            "top": null,
            "grid_column": null,
            "overflow_y": null,
            "overflow_x": null,
            "grid_auto_flow": null,
            "grid_area": null,
            "grid_template_columns": null,
            "flex": null,
            "_model_name": "LayoutModel",
            "justify_items": null,
            "grid_row": null,
            "max_height": null,
            "align_content": null,
            "visibility": null,
            "align_self": null,
            "height": null,
            "min_height": null,
            "padding": null,
            "grid_auto_rows": null,
            "grid_gap": null,
            "max_width": null,
            "order": null,
            "_view_module_version": "1.2.0",
            "grid_template_areas": null,
            "object_position": null,
            "object_fit": null,
            "grid_auto_columns": null,
            "margin": null,
            "display": null,
            "left": null
          }
        },
        "bc0a1addd76b4b6ebf3427c23f148d17": {
          "model_module": "@jupyter-widgets/controls",
          "model_name": "DescriptionStyleModel",
          "state": {
            "_view_name": "StyleView",
            "_model_name": "DescriptionStyleModel",
            "description_width": "",
            "_view_module": "@jupyter-widgets/base",
            "_model_module_version": "1.5.0",
            "_view_count": null,
            "_view_module_version": "1.2.0",
            "_model_module": "@jupyter-widgets/controls"
          }
        },
        "4dd80e406cd64e2eb7daa0d48f3a1b98": {
          "model_module": "@jupyter-widgets/base",
          "model_name": "LayoutModel",
          "state": {
            "_view_name": "LayoutView",
            "grid_template_rows": null,
            "right": null,
            "justify_content": null,
            "_view_module": "@jupyter-widgets/base",
            "overflow": null,
            "_model_module_version": "1.2.0",
            "_view_count": null,
            "flex_flow": null,
            "width": null,
            "min_width": null,
            "border": null,
            "align_items": null,
            "bottom": null,
            "_model_module": "@jupyter-widgets/base",
            "top": null,
            "grid_column": null,
            "overflow_y": null,
            "overflow_x": null,
            "grid_auto_flow": null,
            "grid_area": null,
            "grid_template_columns": null,
            "flex": null,
            "_model_name": "LayoutModel",
            "justify_items": null,
            "grid_row": null,
            "max_height": null,
            "align_content": null,
            "visibility": null,
            "align_self": null,
            "height": null,
            "min_height": null,
            "padding": null,
            "grid_auto_rows": null,
            "grid_gap": null,
            "max_width": null,
            "order": null,
            "_view_module_version": "1.2.0",
            "grid_template_areas": null,
            "object_position": null,
            "object_fit": null,
            "grid_auto_columns": null,
            "margin": null,
            "display": null,
            "left": null
          }
        },
        "77f11d09eca54017bbc31ffcb1c1ec97": {
          "model_module": "@jupyter-widgets/controls",
          "model_name": "HBoxModel",
          "state": {
            "_view_name": "HBoxView",
            "_dom_classes": [],
            "_model_name": "HBoxModel",
            "_view_module": "@jupyter-widgets/controls",
            "_model_module_version": "1.5.0",
            "_view_count": null,
            "_view_module_version": "1.5.0",
            "box_style": "",
            "layout": "IPY_MODEL_93bd2f84a7614babae79e9ba68b75550",
            "_model_module": "@jupyter-widgets/controls",
            "children": [
              "IPY_MODEL_42b8323323d745b6ad8b34596dac5555",
              "IPY_MODEL_6a1bfa86f75845fb8ac0f9c7ba9e202d"
            ]
          }
        },
        "93bd2f84a7614babae79e9ba68b75550": {
          "model_module": "@jupyter-widgets/base",
          "model_name": "LayoutModel",
          "state": {
            "_view_name": "LayoutView",
            "grid_template_rows": null,
            "right": null,
            "justify_content": null,
            "_view_module": "@jupyter-widgets/base",
            "overflow": null,
            "_model_module_version": "1.2.0",
            "_view_count": null,
            "flex_flow": null,
            "width": null,
            "min_width": null,
            "border": null,
            "align_items": null,
            "bottom": null,
            "_model_module": "@jupyter-widgets/base",
            "top": null,
            "grid_column": null,
            "overflow_y": null,
            "overflow_x": null,
            "grid_auto_flow": null,
            "grid_area": null,
            "grid_template_columns": null,
            "flex": null,
            "_model_name": "LayoutModel",
            "justify_items": null,
            "grid_row": null,
            "max_height": null,
            "align_content": null,
            "visibility": null,
            "align_self": null,
            "height": null,
            "min_height": null,
            "padding": null,
            "grid_auto_rows": null,
            "grid_gap": null,
            "max_width": null,
            "order": null,
            "_view_module_version": "1.2.0",
            "grid_template_areas": null,
            "object_position": null,
            "object_fit": null,
            "grid_auto_columns": null,
            "margin": null,
            "display": null,
            "left": null
          }
        },
        "42b8323323d745b6ad8b34596dac5555": {
          "model_module": "@jupyter-widgets/controls",
          "model_name": "IntProgressModel",
          "state": {
            "_view_name": "ProgressView",
            "style": "IPY_MODEL_51cc5318724345cd8b7ded3627774ac8",
            "_dom_classes": [],
            "description": "",
            "_model_name": "IntProgressModel",
            "bar_style": "success",
            "max": 1,
            "_view_module": "@jupyter-widgets/controls",
            "_model_module_version": "1.5.0",
            "value": 1,
            "_view_count": null,
            "_view_module_version": "1.5.0",
            "orientation": "horizontal",
            "min": 0,
            "description_tooltip": null,
            "_model_module": "@jupyter-widgets/controls",
            "layout": "IPY_MODEL_bc8af9d85aa44ec9b079d9d2fde3c8f5"
          }
        },
        "6a1bfa86f75845fb8ac0f9c7ba9e202d": {
          "model_module": "@jupyter-widgets/controls",
          "model_name": "HTMLModel",
          "state": {
            "_view_name": "HTMLView",
            "style": "IPY_MODEL_5de47778c05743d4ad2cea3c10e64311",
            "_dom_classes": [],
            "description": "",
            "_model_name": "HTMLModel",
            "placeholder": "​",
            "_view_module": "@jupyter-widgets/controls",
            "_model_module_version": "1.5.0",
            "value": "1654784it [00:00, 2150681.72it/s]",
            "_view_count": null,
            "_view_module_version": "1.5.0",
            "description_tooltip": null,
            "_model_module": "@jupyter-widgets/controls",
            "layout": "IPY_MODEL_8a3fdbddfaa0445bba9d5e5de1e70d14"
          }
        },
        "51cc5318724345cd8b7ded3627774ac8": {
          "model_module": "@jupyter-widgets/controls",
          "model_name": "ProgressStyleModel",
          "state": {
            "_view_name": "StyleView",
            "_model_name": "ProgressStyleModel",
            "description_width": "",
            "_view_module": "@jupyter-widgets/base",
            "_model_module_version": "1.5.0",
            "_view_count": null,
            "_view_module_version": "1.2.0",
            "bar_color": null,
            "_model_module": "@jupyter-widgets/controls"
          }
        },
        "bc8af9d85aa44ec9b079d9d2fde3c8f5": {
          "model_module": "@jupyter-widgets/base",
          "model_name": "LayoutModel",
          "state": {
            "_view_name": "LayoutView",
            "grid_template_rows": null,
            "right": null,
            "justify_content": null,
            "_view_module": "@jupyter-widgets/base",
            "overflow": null,
            "_model_module_version": "1.2.0",
            "_view_count": null,
            "flex_flow": null,
            "width": null,
            "min_width": null,
            "border": null,
            "align_items": null,
            "bottom": null,
            "_model_module": "@jupyter-widgets/base",
            "top": null,
            "grid_column": null,
            "overflow_y": null,
            "overflow_x": null,
            "grid_auto_flow": null,
            "grid_area": null,
            "grid_template_columns": null,
            "flex": null,
            "_model_name": "LayoutModel",
            "justify_items": null,
            "grid_row": null,
            "max_height": null,
            "align_content": null,
            "visibility": null,
            "align_self": null,
            "height": null,
            "min_height": null,
            "padding": null,
            "grid_auto_rows": null,
            "grid_gap": null,
            "max_width": null,
            "order": null,
            "_view_module_version": "1.2.0",
            "grid_template_areas": null,
            "object_position": null,
            "object_fit": null,
            "grid_auto_columns": null,
            "margin": null,
            "display": null,
            "left": null
          }
        },
        "5de47778c05743d4ad2cea3c10e64311": {
          "model_module": "@jupyter-widgets/controls",
          "model_name": "DescriptionStyleModel",
          "state": {
            "_view_name": "StyleView",
            "_model_name": "DescriptionStyleModel",
            "description_width": "",
            "_view_module": "@jupyter-widgets/base",
            "_model_module_version": "1.5.0",
            "_view_count": null,
            "_view_module_version": "1.2.0",
            "_model_module": "@jupyter-widgets/controls"
          }
        },
        "8a3fdbddfaa0445bba9d5e5de1e70d14": {
          "model_module": "@jupyter-widgets/base",
          "model_name": "LayoutModel",
          "state": {
            "_view_name": "LayoutView",
            "grid_template_rows": null,
            "right": null,
            "justify_content": null,
            "_view_module": "@jupyter-widgets/base",
            "overflow": null,
            "_model_module_version": "1.2.0",
            "_view_count": null,
            "flex_flow": null,
            "width": null,
            "min_width": null,
            "border": null,
            "align_items": null,
            "bottom": null,
            "_model_module": "@jupyter-widgets/base",
            "top": null,
            "grid_column": null,
            "overflow_y": null,
            "overflow_x": null,
            "grid_auto_flow": null,
            "grid_area": null,
            "grid_template_columns": null,
            "flex": null,
            "_model_name": "LayoutModel",
            "justify_items": null,
            "grid_row": null,
            "max_height": null,
            "align_content": null,
            "visibility": null,
            "align_self": null,
            "height": null,
            "min_height": null,
            "padding": null,
            "grid_auto_rows": null,
            "grid_gap": null,
            "max_width": null,
            "order": null,
            "_view_module_version": "1.2.0",
            "grid_template_areas": null,
            "object_position": null,
            "object_fit": null,
            "grid_auto_columns": null,
            "margin": null,
            "display": null,
            "left": null
          }
        },
        "630aa20bf64e417ea7fb61dfd3b7078b": {
          "model_module": "@jupyter-widgets/controls",
          "model_name": "HBoxModel",
          "state": {
            "_view_name": "HBoxView",
            "_dom_classes": [],
            "_model_name": "HBoxModel",
            "_view_module": "@jupyter-widgets/controls",
            "_model_module_version": "1.5.0",
            "_view_count": null,
            "_view_module_version": "1.5.0",
            "box_style": "",
            "layout": "IPY_MODEL_1a0b2acd23164cf69b5c97fc246992a4",
            "_model_module": "@jupyter-widgets/controls",
            "children": [
              "IPY_MODEL_d3ae8f98aa62488ba13d21a092d7c32a",
              "IPY_MODEL_cf3bbff5045d4d75bf514f06be3228f5"
            ]
          }
        },
        "1a0b2acd23164cf69b5c97fc246992a4": {
          "model_module": "@jupyter-widgets/base",
          "model_name": "LayoutModel",
          "state": {
            "_view_name": "LayoutView",
            "grid_template_rows": null,
            "right": null,
            "justify_content": null,
            "_view_module": "@jupyter-widgets/base",
            "overflow": null,
            "_model_module_version": "1.2.0",
            "_view_count": null,
            "flex_flow": null,
            "width": null,
            "min_width": null,
            "border": null,
            "align_items": null,
            "bottom": null,
            "_model_module": "@jupyter-widgets/base",
            "top": null,
            "grid_column": null,
            "overflow_y": null,
            "overflow_x": null,
            "grid_auto_flow": null,
            "grid_area": null,
            "grid_template_columns": null,
            "flex": null,
            "_model_name": "LayoutModel",
            "justify_items": null,
            "grid_row": null,
            "max_height": null,
            "align_content": null,
            "visibility": null,
            "align_self": null,
            "height": null,
            "min_height": null,
            "padding": null,
            "grid_auto_rows": null,
            "grid_gap": null,
            "max_width": null,
            "order": null,
            "_view_module_version": "1.2.0",
            "grid_template_areas": null,
            "object_position": null,
            "object_fit": null,
            "grid_auto_columns": null,
            "margin": null,
            "display": null,
            "left": null
          }
        },
        "d3ae8f98aa62488ba13d21a092d7c32a": {
          "model_module": "@jupyter-widgets/controls",
          "model_name": "IntProgressModel",
          "state": {
            "_view_name": "ProgressView",
            "style": "IPY_MODEL_beef2cddfca74328ad5bdb605a4bbf51",
            "_dom_classes": [],
            "description": "",
            "_model_name": "IntProgressModel",
            "bar_style": "success",
            "max": 1,
            "_view_module": "@jupyter-widgets/controls",
            "_model_module_version": "1.5.0",
            "value": 1,
            "_view_count": null,
            "_view_module_version": "1.5.0",
            "orientation": "horizontal",
            "min": 0,
            "description_tooltip": null,
            "_model_module": "@jupyter-widgets/controls",
            "layout": "IPY_MODEL_e302a283574d456db4da09f87e639fa1"
          }
        },
        "cf3bbff5045d4d75bf514f06be3228f5": {
          "model_module": "@jupyter-widgets/controls",
          "model_name": "HTMLModel",
          "state": {
            "_view_name": "HTMLView",
            "style": "IPY_MODEL_3210260a9fa34d12882a14ef9e8794bb",
            "_dom_classes": [],
            "description": "",
            "_model_name": "HTMLModel",
            "placeholder": "​",
            "_view_module": "@jupyter-widgets/controls",
            "_model_module_version": "1.5.0",
            "value": "8192it [00:00, 31005.70it/s]",
            "_view_count": null,
            "_view_module_version": "1.5.0",
            "description_tooltip": null,
            "_model_module": "@jupyter-widgets/controls",
            "layout": "IPY_MODEL_5b647fcd14a44c508dae12232299a66a"
          }
        },
        "beef2cddfca74328ad5bdb605a4bbf51": {
          "model_module": "@jupyter-widgets/controls",
          "model_name": "ProgressStyleModel",
          "state": {
            "_view_name": "StyleView",
            "_model_name": "ProgressStyleModel",
            "description_width": "",
            "_view_module": "@jupyter-widgets/base",
            "_model_module_version": "1.5.0",
            "_view_count": null,
            "_view_module_version": "1.2.0",
            "bar_color": null,
            "_model_module": "@jupyter-widgets/controls"
          }
        },
        "e302a283574d456db4da09f87e639fa1": {
          "model_module": "@jupyter-widgets/base",
          "model_name": "LayoutModel",
          "state": {
            "_view_name": "LayoutView",
            "grid_template_rows": null,
            "right": null,
            "justify_content": null,
            "_view_module": "@jupyter-widgets/base",
            "overflow": null,
            "_model_module_version": "1.2.0",
            "_view_count": null,
            "flex_flow": null,
            "width": null,
            "min_width": null,
            "border": null,
            "align_items": null,
            "bottom": null,
            "_model_module": "@jupyter-widgets/base",
            "top": null,
            "grid_column": null,
            "overflow_y": null,
            "overflow_x": null,
            "grid_auto_flow": null,
            "grid_area": null,
            "grid_template_columns": null,
            "flex": null,
            "_model_name": "LayoutModel",
            "justify_items": null,
            "grid_row": null,
            "max_height": null,
            "align_content": null,
            "visibility": null,
            "align_self": null,
            "height": null,
            "min_height": null,
            "padding": null,
            "grid_auto_rows": null,
            "grid_gap": null,
            "max_width": null,
            "order": null,
            "_view_module_version": "1.2.0",
            "grid_template_areas": null,
            "object_position": null,
            "object_fit": null,
            "grid_auto_columns": null,
            "margin": null,
            "display": null,
            "left": null
          }
        },
        "3210260a9fa34d12882a14ef9e8794bb": {
          "model_module": "@jupyter-widgets/controls",
          "model_name": "DescriptionStyleModel",
          "state": {
            "_view_name": "StyleView",
            "_model_name": "DescriptionStyleModel",
            "description_width": "",
            "_view_module": "@jupyter-widgets/base",
            "_model_module_version": "1.5.0",
            "_view_count": null,
            "_view_module_version": "1.2.0",
            "_model_module": "@jupyter-widgets/controls"
          }
        },
        "5b647fcd14a44c508dae12232299a66a": {
          "model_module": "@jupyter-widgets/base",
          "model_name": "LayoutModel",
          "state": {
            "_view_name": "LayoutView",
            "grid_template_rows": null,
            "right": null,
            "justify_content": null,
            "_view_module": "@jupyter-widgets/base",
            "overflow": null,
            "_model_module_version": "1.2.0",
            "_view_count": null,
            "flex_flow": null,
            "width": null,
            "min_width": null,
            "border": null,
            "align_items": null,
            "bottom": null,
            "_model_module": "@jupyter-widgets/base",
            "top": null,
            "grid_column": null,
            "overflow_y": null,
            "overflow_x": null,
            "grid_auto_flow": null,
            "grid_area": null,
            "grid_template_columns": null,
            "flex": null,
            "_model_name": "LayoutModel",
            "justify_items": null,
            "grid_row": null,
            "max_height": null,
            "align_content": null,
            "visibility": null,
            "align_self": null,
            "height": null,
            "min_height": null,
            "padding": null,
            "grid_auto_rows": null,
            "grid_gap": null,
            "max_width": null,
            "order": null,
            "_view_module_version": "1.2.0",
            "grid_template_areas": null,
            "object_position": null,
            "object_fit": null,
            "grid_auto_columns": null,
            "margin": null,
            "display": null,
            "left": null
          }
        }
      }
    }
  },
  "cells": [
    {
      "cell_type": "markdown",
      "metadata": {
        "id": "view-in-github",
        "colab_type": "text"
      },
      "source": [
        "<a href=\"https://colab.research.google.com/github/Jumas-Cola/Neural_Networks_and_CV/blob/master/PyTorch_numbers_classification.ipynb\" target=\"_parent\"><img src=\"https://colab.research.google.com/assets/colab-badge.svg\" alt=\"Open In Colab\"/></a>"
      ]
    },
    {
      "cell_type": "code",
      "metadata": {
        "id": "8iccGKWSzkVH",
        "colab_type": "code",
        "colab": {}
      },
      "source": [
        "import torch\n",
        "import random\n",
        "import numpy as np\n",
        "\n",
        "def determinate_notebook():\n",
        "  random.seed(0)\n",
        "  np.random.seed(0)\n",
        "  torch.manual_seed(0)\n",
        "  torch.cuda.manual_seed(0)\n",
        "  torch.backends.cudnn.deterministic = True\n",
        "\n",
        "determinate_notebook()"
      ],
      "execution_count": 0,
      "outputs": []
    },
    {
      "cell_type": "code",
      "metadata": {
        "id": "k0N2_F-s0-TB",
        "colab_type": "code",
        "colab": {
          "base_uri": "https://localhost:8080/",
          "height": 419,
          "referenced_widgets": [
            "e793b6d246904bbbbe78f36ae9843cf9",
            "98b29f5398764336ab7818c5eed01b08",
            "09f6840106cf47e2994e489e0f0b8325",
            "b9669b6505ca4266b9d547824684b9b9",
            "13e7349d5a6b45d080647228ba221b73",
            "e37109e12f1646b1adc3af5031fffa05",
            "73976d84c2214e2a917abd42b095a85e",
            "67544dd05ba04aacb138725224124591",
            "5d610ba0a4dc4d9e877422fff58892a7",
            "2f11129708d24e73aee90d61c212ae38",
            "face9de143e8443989ce723b737ecd80",
            "eb4d0cc5e9e7449386cfe7f0ac4fb397",
            "39ff98e5bd094ef9993b6dc7fc0c1b66",
            "27a292cf73d74e45b9fe749f29db3f99",
            "bc0a1addd76b4b6ebf3427c23f148d17",
            "4dd80e406cd64e2eb7daa0d48f3a1b98",
            "77f11d09eca54017bbc31ffcb1c1ec97",
            "93bd2f84a7614babae79e9ba68b75550",
            "42b8323323d745b6ad8b34596dac5555",
            "6a1bfa86f75845fb8ac0f9c7ba9e202d",
            "51cc5318724345cd8b7ded3627774ac8",
            "bc8af9d85aa44ec9b079d9d2fde3c8f5",
            "5de47778c05743d4ad2cea3c10e64311",
            "8a3fdbddfaa0445bba9d5e5de1e70d14",
            "630aa20bf64e417ea7fb61dfd3b7078b",
            "1a0b2acd23164cf69b5c97fc246992a4",
            "d3ae8f98aa62488ba13d21a092d7c32a",
            "cf3bbff5045d4d75bf514f06be3228f5",
            "beef2cddfca74328ad5bdb605a4bbf51",
            "e302a283574d456db4da09f87e639fa1",
            "3210260a9fa34d12882a14ef9e8794bb",
            "5b647fcd14a44c508dae12232299a66a"
          ]
        },
        "outputId": "519b185e-63a8-4a58-ee80-72a09fe889d2"
      },
      "source": [
        "import torchvision.datasets\n",
        "\n",
        "MNIST_train = torchvision.datasets.MNIST('./', download=True, train=True)\n",
        "MNIST_test = torchvision.datasets.MNIST('./', download=True, train=False)"
      ],
      "execution_count": 2,
      "outputs": [
        {
          "output_type": "stream",
          "text": [
            "Downloading http://yann.lecun.com/exdb/mnist/train-images-idx3-ubyte.gz to ./MNIST/raw/train-images-idx3-ubyte.gz\n"
          ],
          "name": "stdout"
        },
        {
          "output_type": "display_data",
          "data": {
            "application/vnd.jupyter.widget-view+json": {
              "model_id": "e793b6d246904bbbbe78f36ae9843cf9",
              "version_minor": 0,
              "version_major": 2
            },
            "text/plain": [
              "HBox(children=(IntProgress(value=1, bar_style='info', max=1), HTML(value='')))"
            ]
          },
          "metadata": {
            "tags": []
          }
        },
        {
          "output_type": "stream",
          "text": [
            "\n",
            "Extracting ./MNIST/raw/train-images-idx3-ubyte.gz to ./MNIST/raw\n",
            "Downloading http://yann.lecun.com/exdb/mnist/train-labels-idx1-ubyte.gz to ./MNIST/raw/train-labels-idx1-ubyte.gz\n"
          ],
          "name": "stdout"
        },
        {
          "output_type": "display_data",
          "data": {
            "application/vnd.jupyter.widget-view+json": {
              "model_id": "5d610ba0a4dc4d9e877422fff58892a7",
              "version_minor": 0,
              "version_major": 2
            },
            "text/plain": [
              "HBox(children=(IntProgress(value=1, bar_style='info', max=1), HTML(value='')))"
            ]
          },
          "metadata": {
            "tags": []
          }
        },
        {
          "output_type": "stream",
          "text": [
            "\n",
            "Extracting ./MNIST/raw/train-labels-idx1-ubyte.gz to ./MNIST/raw\n",
            "Downloading http://yann.lecun.com/exdb/mnist/t10k-images-idx3-ubyte.gz to ./MNIST/raw/t10k-images-idx3-ubyte.gz\n"
          ],
          "name": "stdout"
        },
        {
          "output_type": "display_data",
          "data": {
            "application/vnd.jupyter.widget-view+json": {
              "model_id": "77f11d09eca54017bbc31ffcb1c1ec97",
              "version_minor": 0,
              "version_major": 2
            },
            "text/plain": [
              "HBox(children=(IntProgress(value=1, bar_style='info', max=1), HTML(value='')))"
            ]
          },
          "metadata": {
            "tags": []
          }
        },
        {
          "output_type": "stream",
          "text": [
            "\n",
            "Extracting ./MNIST/raw/t10k-images-idx3-ubyte.gz to ./MNIST/raw\n",
            "Downloading http://yann.lecun.com/exdb/mnist/t10k-labels-idx1-ubyte.gz to ./MNIST/raw/t10k-labels-idx1-ubyte.gz\n"
          ],
          "name": "stdout"
        },
        {
          "output_type": "display_data",
          "data": {
            "application/vnd.jupyter.widget-view+json": {
              "model_id": "630aa20bf64e417ea7fb61dfd3b7078b",
              "version_minor": 0,
              "version_major": 2
            },
            "text/plain": [
              "HBox(children=(IntProgress(value=1, bar_style='info', max=1), HTML(value='')))"
            ]
          },
          "metadata": {
            "tags": []
          }
        },
        {
          "output_type": "stream",
          "text": [
            "\n",
            "Extracting ./MNIST/raw/t10k-labels-idx1-ubyte.gz to ./MNIST/raw\n",
            "Processing...\n",
            "Done!\n"
          ],
          "name": "stdout"
        }
      ]
    },
    {
      "cell_type": "code",
      "metadata": {
        "id": "zoA8Z3pd2Yx8",
        "colab_type": "code",
        "colab": {}
      },
      "source": [
        "X_train = MNIST_train.data\n",
        "y_train = MNIST_train.targets\n",
        "X_test = MNIST_test.data\n",
        "y_test = MNIST_test.targets"
      ],
      "execution_count": 0,
      "outputs": []
    },
    {
      "cell_type": "code",
      "metadata": {
        "id": "0JMlyVQA4mKt",
        "colab_type": "code",
        "outputId": "3977d304-4c9e-4134-eb16-a12ebac295cf",
        "colab": {
          "base_uri": "https://localhost:8080/",
          "height": 35
        }
      },
      "source": [
        "X_train.dtype, y_train.dtype"
      ],
      "execution_count": 4,
      "outputs": [
        {
          "output_type": "execute_result",
          "data": {
            "text/plain": [
              "(torch.uint8, torch.int64)"
            ]
          },
          "metadata": {
            "tags": []
          },
          "execution_count": 4
        }
      ]
    },
    {
      "cell_type": "code",
      "metadata": {
        "id": "9I2lQnZ24uOF",
        "colab_type": "code",
        "colab": {}
      },
      "source": [
        "X_train = X_train.float()\n",
        "X_test = X_test.float()"
      ],
      "execution_count": 0,
      "outputs": []
    },
    {
      "cell_type": "code",
      "metadata": {
        "id": "uTW1Xm7c5fqR",
        "colab_type": "code",
        "outputId": "fb819146-3c81-41d8-ef20-de6033fb3271",
        "colab": {
          "base_uri": "https://localhost:8080/",
          "height": 35
        }
      },
      "source": [
        "X_train.shape, X_test.shape"
      ],
      "execution_count": 6,
      "outputs": [
        {
          "output_type": "execute_result",
          "data": {
            "text/plain": [
              "(torch.Size([60000, 28, 28]), torch.Size([10000, 28, 28]))"
            ]
          },
          "metadata": {
            "tags": []
          },
          "execution_count": 6
        }
      ]
    },
    {
      "cell_type": "code",
      "metadata": {
        "id": "1P0G4IFu5nWB",
        "colab_type": "code",
        "outputId": "6c11b0c4-8742-4ab5-8e12-5bc355eedb3f",
        "colab": {
          "base_uri": "https://localhost:8080/",
          "height": 35
        }
      },
      "source": [
        "y_train.shape, y_test.shape"
      ],
      "execution_count": 7,
      "outputs": [
        {
          "output_type": "execute_result",
          "data": {
            "text/plain": [
              "(torch.Size([60000]), torch.Size([10000]))"
            ]
          },
          "metadata": {
            "tags": []
          },
          "execution_count": 7
        }
      ]
    },
    {
      "cell_type": "code",
      "metadata": {
        "id": "mkI2kowb8CDR",
        "colab_type": "code",
        "outputId": "731bb844-2e27-4196-ab19-5a5abec8c9d0",
        "colab": {
          "base_uri": "https://localhost:8080/",
          "height": 283
        }
      },
      "source": [
        "import matplotlib.pyplot as plt\n",
        "\n",
        "plt.imshow(X_train[0, :, :])\n",
        "plt.show()\n",
        "print(y_train[0])"
      ],
      "execution_count": 8,
      "outputs": [
        {
          "output_type": "display_data",
          "data": {
            "image/png": "[encoded data removed]",
            "text/plain": [
              "<Figure size 432x288 with 1 Axes>"
            ]
          },
          "metadata": {
            "tags": []
          }
        },
        {
          "output_type": "stream",
          "text": [
            "tensor(5)\n"
          ],
          "name": "stdout"
        }
      ]
    },
    {
      "cell_type": "code",
      "metadata": {
        "id": "lA1ZECOi8224",
        "colab_type": "code",
        "colab": {}
      },
      "source": [
        "X_train = X_train.reshape([-1, 28 * 28])\n",
        "X_test = X_test.reshape([-1, 28 * 28])"
      ],
      "execution_count": 0,
      "outputs": []
    },
    {
      "cell_type": "code",
      "metadata": {
        "id": "HiYVr4ZB9t7q",
        "colab_type": "code",
        "colab": {}
      },
      "source": [
        "class MNISTNet(torch.nn.Module):\n",
        "  def __init__(self, n_hidden_neurons):\n",
        "    super().__init__()\n",
        "    self.fc1 = torch.nn.Linear(28 * 28, n_hidden_neurons)\n",
        "    self.act1 = torch.nn.Sigmoid()\n",
        "    self.fc2 = torch.nn.Linear(n_hidden_neurons, n_hidden_neurons)\n",
        "    self.act2 = torch.nn.Tanh()\n",
        "    self.fc3 = torch.nn.Linear(n_hidden_neurons, 10)\n",
        "  \n",
        "  def forward(self, x):\n",
        "    x = self.fc1(x)\n",
        "    x = self.act1(x)\n",
        "    x = self.fc2(x)\n",
        "    x = self.act2(x)\n",
        "    x = self.fc3(x)\n",
        "    return x\n",
        "\n",
        "mnist_net = MNISTNet(100)"
      ],
      "execution_count": 0,
      "outputs": []
    },
    {
      "cell_type": "code",
      "metadata": {
        "id": "p8IaIUgiPkQ0",
        "colab_type": "code",
        "outputId": "7c848375-7502-41b9-8c6e-a862e8c971d3",
        "colab": {
          "base_uri": "https://localhost:8080/",
          "height": 326
        }
      },
      "source": [
        "!nvidia-smi"
      ],
      "execution_count": 11,
      "outputs": [
        {
          "output_type": "stream",
          "text": [
            "Fri Feb 14 15:47:22 2020       \n",
            "+-----------------------------------------------------------------------------+\n",
            "| NVIDIA-SMI 440.48.02    Driver Version: 418.67       CUDA Version: 10.1     |\n",
            "|-------------------------------+----------------------+----------------------+\n",
            "| GPU  Name        Persistence-M| Bus-Id        Disp.A | Volatile Uncorr. ECC |\n",
            "| Fan  Temp  Perf  Pwr:Usage/Cap|         Memory-Usage | GPU-Util  Compute M. |\n",
            "|===============================+======================+======================|\n",
            "|   0  Tesla P100-PCIE...  Off  | 00000000:00:04.0 Off |                    0 |\n",
            "| N/A   36C    P0    26W / 250W |      0MiB / 16280MiB |      0%      Default |\n",
            "+-------------------------------+----------------------+----------------------+\n",
            "                                                                               \n",
            "+-----------------------------------------------------------------------------+\n",
            "| Processes:                                                       GPU Memory |\n",
            "|  GPU       PID   Type   Process name                             Usage      |\n",
            "|=============================================================================|\n",
            "|  No running processes found                                                 |\n",
            "+-----------------------------------------------------------------------------+\n"
          ],
          "name": "stdout"
        }
      ]
    },
    {
      "cell_type": "code",
      "metadata": {
        "id": "QHyPZe-uS5Ok",
        "colab_type": "code",
        "outputId": "d918786f-5231-466e-c7ff-4916296589c5",
        "colab": {
          "base_uri": "https://localhost:8080/",
          "height": 1000
        }
      },
      "source": [
        "device = torch.device('cuda:0' if torch.cuda.is_available() else 'cpu')\n",
        "mnist_net = mnist_net.to(device)\n",
        "list(mnist_net.parameters())"
      ],
      "execution_count": 12,
      "outputs": [
        {
          "output_type": "execute_result",
          "data": {
            "text/plain": [
              "[Parameter containing:\n",
              " tensor([[-0.0003,  0.0192, -0.0294,  ...,  0.0219,  0.0037,  0.0021],\n",
              "         [-0.0198, -0.0150, -0.0104,  ..., -0.0203, -0.0060, -0.0299],\n",
              "         [-0.0201,  0.0149, -0.0333,  ..., -0.0203,  0.0012,  0.0080],\n",
              "         ...,\n",
              "         [ 0.0221,  0.0258, -0.0088,  ..., -0.0141,  0.0051, -0.0318],\n",
              "         [-0.0217, -0.0136,  0.0185,  ..., -0.0012, -0.0012, -0.0017],\n",
              "         [ 0.0142,  0.0089, -0.0053,  ...,  0.0311, -0.0181,  0.0020]],\n",
              "        device='cuda:0', requires_grad=True), Parameter containing:\n",
              " tensor([-3.5402e-02,  1.8178e-02, -2.1709e-02, -1.1839e-02,  4.8722e-03,\n",
              "         -1.0492e-02, -1.9008e-02,  2.6994e-02, -3.4899e-02,  1.0381e-02,\n",
              "         -3.5228e-02, -5.6381e-03, -2.0134e-02, -3.0264e-02, -1.3289e-02,\n",
              "          2.5346e-02, -1.0797e-02,  2.1568e-03,  4.3630e-03, -2.1916e-02,\n",
              "          2.2670e-02, -1.5766e-02,  3.4906e-02, -2.3063e-02, -6.8216e-03,\n",
              "          2.7051e-02, -1.3991e-02,  9.7218e-03, -9.9075e-04,  1.6625e-03,\n",
              "          2.3455e-02, -2.5294e-02,  4.8019e-06, -2.5339e-02, -1.7412e-02,\n",
              "         -1.6342e-02,  2.6164e-03, -1.8025e-02,  2.5939e-02,  2.3884e-03,\n",
              "          1.1857e-03, -2.0811e-03, -1.4417e-03,  2.2246e-02, -2.7703e-02,\n",
              "          1.9103e-02,  1.7750e-02, -4.5987e-03, -5.7228e-03,  1.1429e-02,\n",
              "         -1.9616e-02,  1.0336e-04,  2.3019e-02, -1.9994e-02,  1.5292e-03,\n",
              "         -3.4574e-02, -2.8799e-02,  1.0611e-02, -1.4141e-02, -2.3886e-02,\n",
              "          2.2307e-02, -3.0040e-02, -2.8897e-02, -9.2013e-03, -3.6146e-03,\n",
              "          3.4074e-03,  7.3265e-03, -1.7886e-02, -1.8164e-02, -1.9736e-02,\n",
              "         -3.0381e-02, -1.5204e-02,  2.4328e-02, -2.2534e-02,  4.2453e-04,\n",
              "          2.7948e-02,  1.3828e-03,  3.3543e-02, -3.3373e-02, -6.0236e-04,\n",
              "          1.1359e-02,  3.2776e-02, -3.6375e-03, -2.7758e-02, -4.0390e-03,\n",
              "         -1.8094e-03, -2.1388e-02,  1.8606e-03, -1.4006e-02, -2.9517e-02,\n",
              "         -1.6692e-02, -7.7352e-03, -1.9986e-02,  1.8643e-02, -2.0421e-02,\n",
              "          1.1466e-02, -2.7346e-02,  2.3264e-03, -3.3796e-02,  1.1720e-02],\n",
              "        device='cuda:0', requires_grad=True), Parameter containing:\n",
              " tensor([[-0.0440, -0.0409, -0.0028,  ...,  0.0858, -0.0911, -0.0461],\n",
              "         [ 0.0286, -0.0978,  0.0996,  ...,  0.0691, -0.0030, -0.0555],\n",
              "         [-0.0581, -0.0162,  0.0596,  ..., -0.0541,  0.0469, -0.0707],\n",
              "         ...,\n",
              "         [ 0.0565,  0.0146,  0.0642,  ..., -0.0467, -0.0388, -0.0510],\n",
              "         [ 0.0087, -0.0266,  0.0302,  ...,  0.0871, -0.0382, -0.0974],\n",
              "         [-0.0561, -0.0923, -0.0133,  ..., -0.0387,  0.0933, -0.0368]],\n",
              "        device='cuda:0', requires_grad=True), Parameter containing:\n",
              " tensor([-0.0721,  0.0845, -0.0262, -0.0716,  0.0792,  0.0806, -0.0090, -0.0963,\n",
              "         -0.0514, -0.0433, -0.0637,  0.0413,  0.0972, -0.0533,  0.0454,  0.1000,\n",
              "          0.0480,  0.0629,  0.0889,  0.0827,  0.0167, -0.0594,  0.0379,  0.0128,\n",
              "          0.0703,  0.0389,  0.0827,  0.0166,  0.0844,  0.0321,  0.0729,  0.0327,\n",
              "          0.0195,  0.0550, -0.0572, -0.0315,  0.0137, -0.0622, -0.0619,  0.0571,\n",
              "          0.0521,  0.0191,  0.0459,  0.0235, -0.0322, -0.0543, -0.0828, -0.0021,\n",
              "          0.0065, -0.0032,  0.0427, -0.0890, -0.0350, -0.0265,  0.0135,  0.0663,\n",
              "         -0.0249,  0.0223,  0.0523,  0.0915, -0.0531,  0.0382,  0.0244, -0.0575,\n",
              "          0.0017,  0.0077,  0.0486, -0.0913,  0.0563,  0.0371, -0.0181, -0.0970,\n",
              "         -0.0340,  0.0242,  0.0331,  0.0354, -0.0270,  0.0455, -0.0820, -0.0274,\n",
              "          0.0069, -0.0871, -0.0828, -0.0293,  0.0233, -0.0334,  0.0711, -0.0332,\n",
              "         -0.0465, -0.0903, -0.0020, -0.0429,  0.0405, -0.0458, -0.0166, -0.0355,\n",
              "          0.0783, -0.0871,  0.0106,  0.0575], device='cuda:0',\n",
              "        requires_grad=True), Parameter containing:\n",
              " tensor([[-0.0234, -0.0752,  0.0461,  0.0483,  0.0841,  0.0344,  0.0485,  0.0399,\n",
              "           0.0248,  0.0720,  0.0281, -0.0404,  0.0469, -0.0466, -0.0212,  0.0171,\n",
              "           0.0706,  0.0070,  0.0928, -0.0111,  0.0977,  0.0174, -0.0046,  0.0700,\n",
              "           0.0869, -0.0233,  0.0646, -0.0527, -0.0671,  0.0070,  0.0005, -0.0937,\n",
              "           0.0844, -0.0065,  0.0232, -0.0999, -0.0164,  0.0735,  0.0129,  0.0455,\n",
              "           0.0532, -0.0863,  0.0150, -0.0424,  0.0641,  0.0838, -0.0564,  0.0901,\n",
              "          -0.0808, -0.0473,  0.0589,  0.0734,  0.0674, -0.0497, -0.0652,  0.0802,\n",
              "          -0.0242,  0.0772,  0.0604,  0.0635,  0.0565,  0.0654, -0.0655, -0.0878,\n",
              "          -0.0246, -0.0556, -0.0148, -0.0496,  0.0046, -0.0787, -0.0502,  0.0504,\n",
              "           0.0544,  0.0248, -0.0288,  0.0611, -0.0298, -0.0288, -0.0353,  0.0449,\n",
              "          -0.0124,  0.0939, -0.0577,  0.0218, -0.0888, -0.0586, -0.0187,  0.0040,\n",
              "           0.0402,  0.0665,  0.0112,  0.0470,  0.0017,  0.0367, -0.0740,  0.0421,\n",
              "           0.0614,  0.0191,  0.0149,  0.0352],\n",
              "         [ 0.0848,  0.0242,  0.0033,  0.0376,  0.0335,  0.0541, -0.0071,  0.0115,\n",
              "          -0.0365,  0.0489, -0.0336, -0.0786,  0.0608, -0.0529,  0.0218,  0.0240,\n",
              "          -0.0605, -0.0453,  0.0828, -0.0592, -0.0786,  0.0532,  0.0361, -0.0819,\n",
              "           0.0875, -0.0244,  0.0963,  0.0335, -0.0544, -0.0071,  0.0306, -0.0028,\n",
              "          -0.0450, -0.0268, -0.0076, -0.0456,  0.0450, -0.0645,  0.0794, -0.0445,\n",
              "          -0.0059,  0.0523,  0.0546,  0.0251,  0.0369, -0.0348,  0.0722, -0.0935,\n",
              "          -0.0943, -0.0842, -0.0821, -0.0447,  0.0121,  0.0258, -0.0040,  0.0723,\n",
              "          -0.0303,  0.0276,  0.0611,  0.0840, -0.0363,  0.0633,  0.0883, -0.0626,\n",
              "           0.0152, -0.0601, -0.0277, -0.0207, -0.0248, -0.0184,  0.0130, -0.0557,\n",
              "          -0.0672,  0.0995,  0.0270,  0.0143,  0.0353,  0.0504, -0.0507, -0.0563,\n",
              "          -0.0178,  0.0548, -0.0495,  0.0041, -0.0908, -0.0370, -0.0977,  0.0437,\n",
              "          -0.0386, -0.0364,  0.0154,  0.0419, -0.0507,  0.0176,  0.0446,  0.0466,\n",
              "          -0.0020, -0.0202, -0.0746,  0.0183],\n",
              "         [ 0.0808, -0.0439,  0.0680, -0.0124, -0.0296, -0.0479, -0.0227, -0.0472,\n",
              "          -0.0107, -0.0617, -0.0556, -0.0739,  0.0327,  0.0980, -0.0981, -0.0038,\n",
              "           0.0760, -0.0940, -0.0980, -0.0668,  0.0196, -0.0422,  0.0686, -0.0936,\n",
              "           0.0531, -0.0375, -0.0171,  0.0002,  0.0137,  0.0436, -0.0677, -0.0207,\n",
              "          -0.0928,  0.0929, -0.0600,  0.0166,  0.0686,  0.0915,  0.0098,  0.0931,\n",
              "          -0.0940,  0.0018,  0.0005,  0.0941, -0.0522,  0.0721,  0.0139, -0.0244,\n",
              "           0.0527, -0.0525,  0.0312,  0.0212, -0.0196, -0.0084,  0.0501,  0.0552,\n",
              "           0.0097, -0.0984, -0.0238, -0.0939, -0.0354, -0.0731,  0.0924, -0.0345,\n",
              "           0.0430,  0.0097, -0.0885,  0.0168,  0.0298,  0.0107, -0.0483,  0.0329,\n",
              "           0.0015,  0.0475,  0.0107, -0.0222,  0.0662,  0.0845, -0.0425,  0.0018,\n",
              "           0.0014, -0.0451, -0.0702, -0.0321, -0.0465, -0.0269, -0.0166, -0.0136,\n",
              "           0.0089,  0.0497, -0.0242, -0.0649,  0.0506, -0.0506, -0.0093,  0.0305,\n",
              "           0.0882, -0.0308,  0.0189,  0.0055],\n",
              "         [ 0.0690,  0.0281,  0.0882,  0.0532, -0.0596,  0.0581, -0.0253, -0.0186,\n",
              "          -0.0857, -0.0148,  0.0504,  0.0145,  0.0340, -0.0288,  0.0416, -0.0220,\n",
              "           0.0218,  0.0114, -0.0270, -0.0784,  0.0760, -0.0323,  0.0096, -0.0273,\n",
              "           0.0269,  0.0595,  0.0005,  0.0912, -0.0184,  0.0588, -0.0335,  0.0699,\n",
              "           0.0889, -0.0678, -0.0186,  0.0876, -0.0577, -0.0680,  0.0095, -0.0171,\n",
              "          -0.0314,  0.0464, -0.0658, -0.0166,  0.0363,  0.0640, -0.0784,  0.0035,\n",
              "          -0.0655, -0.0688,  0.0092,  0.0519,  0.0200,  0.0180,  0.0566, -0.0496,\n",
              "          -0.0342, -0.0697, -0.0988, -0.0144, -0.0071, -0.0947,  0.0876, -0.0286,\n",
              "           0.0846, -0.0020, -0.0753,  0.0820, -0.0399, -0.0124, -0.0865, -0.0462,\n",
              "           0.0057, -0.0607,  0.0285,  0.0755,  0.0201, -0.0418, -0.0257,  0.0625,\n",
              "          -0.0598, -0.0490,  0.0931,  0.0226, -0.0162,  0.0175, -0.0660, -0.0995,\n",
              "           0.0359,  0.0375,  0.0802,  0.0322, -0.0398, -0.0142,  0.0097,  0.0276,\n",
              "           0.0838, -0.0833,  0.0638,  0.0518],\n",
              "         [ 0.0772,  0.0514,  0.0011,  0.0128, -0.0203, -0.0052, -0.0445,  0.0722,\n",
              "          -0.0365,  0.0609, -0.0906,  0.0891, -0.0145,  0.0439,  0.0912, -0.0898,\n",
              "           0.0160, -0.0483,  0.0293, -0.0941, -0.0747, -0.0948, -0.0454, -0.0489,\n",
              "           0.0787, -0.0441, -0.0867,  0.0889, -0.0547,  0.0717, -0.0416, -0.0090,\n",
              "          -0.0691, -0.0091,  0.0507,  0.0737, -0.0744, -0.0442,  0.0831,  0.0082,\n",
              "          -0.0303, -0.0158, -0.0509,  0.0607,  0.0573,  0.0446,  0.0100, -0.0941,\n",
              "          -0.0412,  0.0884, -0.0190, -0.0938,  0.0686, -0.0079,  0.0567,  0.0071,\n",
              "           0.0021, -0.0258, -0.0076, -0.0163,  0.0886, -0.0336,  0.0142, -0.0141,\n",
              "          -0.0671,  0.0274,  0.0625, -0.0348, -0.0248, -0.0369,  0.0097,  0.0047,\n",
              "          -0.0606,  0.0724, -0.0104,  0.0811,  0.0618, -0.0770, -0.0223,  0.0238,\n",
              "           0.0402,  0.0184, -0.0814,  0.0025, -0.0801,  0.0672,  0.0579,  0.0357,\n",
              "          -0.0526,  0.0669, -0.0081, -0.0659, -0.0020, -0.0855,  0.0543, -0.0889,\n",
              "          -0.0149,  0.0652, -0.0100,  0.0540],\n",
              "         [ 0.0889, -0.0118,  0.0772, -0.0646, -0.0097, -0.0014, -0.0820, -0.0135,\n",
              "           0.0583, -0.0139,  0.0327,  0.0915,  0.0129, -0.0118,  0.0356,  0.0782,\n",
              "           0.0697,  0.0569,  0.0226,  0.0316, -0.0260,  0.0617,  0.0843, -0.0937,\n",
              "          -0.0743, -0.0422,  0.0206,  0.0864, -0.0498, -0.0904, -0.0608,  0.0126,\n",
              "          -0.0386,  0.0044,  0.0959, -0.0710, -0.0171,  0.0418, -0.0612, -0.0357,\n",
              "           0.0497, -0.0687,  0.0889,  0.0457, -0.0964,  0.0562, -0.0247, -0.0540,\n",
              "           0.0183,  0.0484,  0.0747,  0.0212,  0.0584,  0.0017, -0.0316, -0.0030,\n",
              "           0.0663,  0.0560,  0.0120, -0.0789, -0.0657, -0.0115, -0.0811, -0.0284,\n",
              "           0.0619,  0.0355,  0.0693, -0.0539, -0.0126,  0.0112,  0.0269,  0.0561,\n",
              "           0.0123, -0.0644,  0.0471, -0.0679, -0.0101,  0.0527, -0.0296, -0.0826,\n",
              "           0.0861, -0.0118,  0.0268, -0.0978,  0.0131, -0.0466,  0.0454, -0.0951,\n",
              "          -0.0536,  0.0409,  0.0884, -0.0595, -0.0157,  0.0388, -0.0750,  0.0651,\n",
              "           0.0787, -0.0563, -0.0842, -0.0745],\n",
              "         [-0.0429,  0.0233,  0.0213, -0.0622,  0.0165, -0.0911, -0.0087, -0.0995,\n",
              "          -0.0292,  0.0993, -0.0924, -0.0359, -0.0286,  0.0091,  0.0749,  0.0421,\n",
              "           0.0950, -0.0042,  0.0037,  0.0289, -0.0284, -0.0176,  0.0678,  0.0007,\n",
              "           0.0515, -0.0058,  0.0044,  0.0415, -0.0592,  0.0863, -0.0336, -0.0686,\n",
              "           0.0544,  0.0309, -0.0515,  0.0238,  0.0181, -0.0967,  0.0721,  0.0821,\n",
              "          -0.0441, -0.0822, -0.0268,  0.0923, -0.0695,  0.0667,  0.0033,  0.0155,\n",
              "          -0.0081, -0.0959,  0.0692, -0.0617,  0.0296,  0.0129, -0.0254,  0.0857,\n",
              "           0.0618,  0.0872, -0.0592, -0.0060, -0.0894, -0.0951, -0.0587,  0.0830,\n",
              "           0.0129, -0.0976,  0.0668,  0.0644, -0.0638, -0.0822,  0.0879, -0.0517,\n",
              "          -0.0968,  0.0604, -0.0480, -0.0556, -0.0660,  0.0784,  0.0479, -0.0057,\n",
              "           0.0068, -0.0097, -0.0229, -0.0325, -0.0793,  0.0273,  0.0326, -0.0170,\n",
              "          -0.0651, -0.0113,  0.0542, -0.0654, -0.0420,  0.0249, -0.0490,  0.0971,\n",
              "          -0.0676, -0.0387, -0.0303,  0.0620],\n",
              "         [ 0.0924, -0.0713, -0.0796,  0.0996,  0.0764, -0.0304,  0.0594,  0.0138,\n",
              "          -0.0015, -0.0419, -0.0638, -0.0854,  0.0575,  0.0730, -0.0676, -0.0718,\n",
              "          -0.0953,  0.0966,  0.0532,  0.0689, -0.0620,  0.0235, -0.0018,  0.0576,\n",
              "           0.0762,  0.0250,  0.0269, -0.0405, -0.0111, -0.0769, -0.0452,  0.0751,\n",
              "           0.0253,  0.0685,  0.0914,  0.0132, -0.0153,  0.0619,  0.0942,  0.0220,\n",
              "           0.0638, -0.0520,  0.0857, -0.0061,  0.0805,  0.0500,  0.0064,  0.0806,\n",
              "          -0.0652,  0.0368,  0.0541,  0.0089,  0.0870,  0.0460,  0.0615,  0.0654,\n",
              "           0.0558,  0.0661, -0.0119, -0.0017, -0.0155, -0.0663, -0.0881, -0.0907,\n",
              "          -0.0301, -0.0068,  0.0120, -0.0184,  0.0996,  0.0828,  0.0153, -0.0149,\n",
              "          -0.0532,  0.0138,  0.0373,  0.0604,  0.0214, -0.0196,  0.0244,  0.0462,\n",
              "          -0.0860,  0.0926, -0.0428,  0.0431,  0.0144,  0.0097,  0.0729, -0.0216,\n",
              "           0.0972, -0.0540,  0.0262,  0.0159, -0.0615,  0.0381,  0.0016,  0.0136,\n",
              "          -0.0997, -0.0929,  0.0479,  0.0549],\n",
              "         [-0.0404, -0.0440, -0.0305, -0.0853,  0.0666, -0.0981, -0.0780,  0.0580,\n",
              "           0.0539,  0.0984, -0.0117, -0.0056,  0.0269,  0.0763, -0.0868,  0.0126,\n",
              "           0.0026, -0.0782, -0.0554,  0.0897, -0.0554, -0.0161,  0.0350, -0.0601,\n",
              "          -0.0813, -0.0870,  0.0998,  0.0609, -0.0168, -0.0758,  0.0863,  0.0171,\n",
              "           0.0876,  0.0565,  0.0442,  0.0169,  0.0992, -0.0215, -0.0731,  0.0179,\n",
              "          -0.0146, -0.0346, -0.0281,  0.0418,  0.0982,  0.0078, -0.0756,  0.0092,\n",
              "          -0.0766,  0.0826,  0.0957, -0.0038,  0.0292,  0.0641,  0.0647, -0.0383,\n",
              "          -0.0286,  0.0796,  0.0274,  0.0837,  0.0225,  0.0948,  0.0403,  0.0413,\n",
              "           0.0936, -0.0341, -0.0463,  0.0076, -0.0570, -0.0515,  0.0519,  0.0779,\n",
              "           0.0116,  0.0504,  0.0194,  0.0725,  0.0877, -0.0633,  0.0592,  0.0827,\n",
              "           0.0493, -0.0815, -0.0800,  0.0500, -0.0386, -0.0232,  0.0944,  0.0323,\n",
              "          -0.0313,  0.0335,  0.0949, -0.0814,  0.0386,  0.0660,  0.0769,  0.0038,\n",
              "          -0.0609,  0.0178, -0.0354, -0.0302],\n",
              "         [-0.0994,  0.0973,  0.0064,  0.0703, -0.0618,  0.0557, -0.0844, -0.0058,\n",
              "           0.0510,  0.0363,  0.0748, -0.0217, -0.0352,  0.0583, -0.0288, -0.0922,\n",
              "          -0.0393, -0.0484, -0.0334, -0.0491,  0.0414, -0.0536, -0.0182,  0.0386,\n",
              "          -0.0987,  0.0952, -0.0335,  0.0410, -0.0673,  0.0079, -0.0995,  0.0639,\n",
              "           0.0185,  0.0437, -0.0990,  0.0713,  0.0447,  0.0895,  0.0126, -0.0596,\n",
              "           0.0372, -0.0591, -0.0976, -0.0463, -0.0790,  0.0564,  0.0422, -0.0330,\n",
              "          -0.0317,  0.0892,  0.0167, -0.0293, -0.0854, -0.0500,  0.0310, -0.0908,\n",
              "          -0.0718, -0.0802,  0.0781,  0.0028,  0.0465, -0.0253, -0.0721,  0.0822,\n",
              "           0.0732, -0.0071,  0.0038, -0.0615,  0.0132,  0.0982, -0.0311, -0.0040,\n",
              "           0.0542,  0.0030,  0.0535, -0.0967,  0.0276, -0.0126, -0.0329, -0.0171,\n",
              "          -0.0912,  0.0050,  0.0742,  0.0350, -0.0858,  0.0804, -0.0652, -0.0620,\n",
              "          -0.0038,  0.0806, -0.0624,  0.0330, -0.0579,  0.0437, -0.0900, -0.0904,\n",
              "           0.0893, -0.0135, -0.0225,  0.0680]], device='cuda:0',\n",
              "        requires_grad=True), Parameter containing:\n",
              " tensor([ 0.0973,  0.0883,  0.0552, -0.0974,  0.0578,  0.0552,  0.0066, -0.0414,\n",
              "          0.0558, -0.0143], device='cuda:0', requires_grad=True)]"
            ]
          },
          "metadata": {
            "tags": []
          },
          "execution_count": 12
        }
      ]
    },
    {
      "cell_type": "code",
      "metadata": {
        "id": "LpXfVJSnUFbh",
        "colab_type": "code",
        "colab": {}
      },
      "source": [
        "loss = torch.nn.CrossEntropyLoss()\n",
        "optimizer = torch.optim.Adam(mnist_net.parameters(), lr=1.0e-4)"
      ],
      "execution_count": 0,
      "outputs": []
    },
    {
      "cell_type": "code",
      "metadata": {
        "id": "8JneciBGUcj5",
        "colab_type": "code",
        "outputId": "81c01af2-c44c-4c9e-e1e0-5db6b9e70a50",
        "colab": {
          "base_uri": "https://localhost:8080/",
          "height": 945
        }
      },
      "source": [
        "batch_size = 100\n",
        "\n",
        "train_accuracy_history = []\n",
        "train_loss_history = []\n",
        "test_accuracy_history = []\n",
        "test_loss_history = []\n",
        "\n",
        "X_test = X_test.to(device)\n",
        "y_test = y_test.to(device)\n",
        "\n",
        "import time\n",
        "\n",
        "start_time = time.time()\n",
        "\n",
        "for epoch in range(50):\n",
        "  order = np.random.permutation(len(X_train))\n",
        "  for start_index in range(0, len(X_train), batch_size):\n",
        "    optimizer.zero_grad()\n",
        "    batch_indexes = order[start_index:start_index+batch_size]\n",
        "\n",
        "    X_batch = X_train[batch_indexes].to(device)\n",
        "    y_batch = y_train[batch_indexes].to(device)\n",
        "\n",
        "    preds = mnist_net.forward(X_batch)\n",
        "\n",
        "    loss_value = loss(preds, y_batch)\n",
        "    loss_value.backward()\n",
        "\n",
        "    optimizer.step()\n",
        "  if start_index + batch_size >= len(X_train):\n",
        "    train_preds = mnist_net.forward(X_batch.cuda())\n",
        "    train_loss_history.append(loss(train_preds, y_batch.cuda()))\n",
        "\n",
        "    accuracy = (train_preds.argmax(dim=1) == y_batch.cuda()).float().mean()\n",
        "    train_accuracy_history.append(accuracy)\n",
        "\n",
        "  test_preds = mnist_net.forward(X_test)\n",
        "  test_loss_history.append(loss(test_preds, y_test))\n",
        "\n",
        "  accuracy = (test_preds.argmax(dim=1) == y_test).float().mean()\n",
        "  test_accuracy_history.append(accuracy)\n",
        "\n",
        "  print(accuracy)\n",
        "print(device, time.time() - start_time)\n",
        "# cuda:0 85.4325487613678\n",
        "# cpu 203.7979030609131"
      ],
      "execution_count": 14,
      "outputs": [
        {
          "output_type": "stream",
          "text": [
            "tensor(0.8898, device='cuda:0')\n",
            "tensor(0.9142, device='cuda:0')\n",
            "tensor(0.9258, device='cuda:0')\n",
            "tensor(0.9337, device='cuda:0')\n",
            "tensor(0.9362, device='cuda:0')\n",
            "tensor(0.9422, device='cuda:0')\n",
            "tensor(0.9435, device='cuda:0')\n",
            "tensor(0.9475, device='cuda:0')\n",
            "tensor(0.9498, device='cuda:0')\n",
            "tensor(0.9517, device='cuda:0')\n",
            "tensor(0.9516, device='cuda:0')\n",
            "tensor(0.9519, device='cuda:0')\n",
            "tensor(0.9552, device='cuda:0')\n",
            "tensor(0.9540, device='cuda:0')\n",
            "tensor(0.9540, device='cuda:0')\n",
            "tensor(0.9583, device='cuda:0')\n",
            "tensor(0.9560, device='cuda:0')\n",
            "tensor(0.9591, device='cuda:0')\n",
            "tensor(0.9591, device='cuda:0')\n",
            "tensor(0.9587, device='cuda:0')\n",
            "tensor(0.9571, device='cuda:0')\n",
            "tensor(0.9580, device='cuda:0')\n",
            "tensor(0.9630, device='cuda:0')\n",
            "tensor(0.9635, device='cuda:0')\n",
            "tensor(0.9620, device='cuda:0')\n",
            "tensor(0.9621, device='cuda:0')\n",
            "tensor(0.9602, device='cuda:0')\n",
            "tensor(0.9641, device='cuda:0')\n",
            "tensor(0.9607, device='cuda:0')\n",
            "tensor(0.9607, device='cuda:0')\n",
            "tensor(0.9625, device='cuda:0')\n",
            "tensor(0.9648, device='cuda:0')\n",
            "tensor(0.9633, device='cuda:0')\n",
            "tensor(0.9633, device='cuda:0')\n",
            "tensor(0.9627, device='cuda:0')\n",
            "tensor(0.9631, device='cuda:0')\n",
            "tensor(0.9635, device='cuda:0')\n",
            "tensor(0.9635, device='cuda:0')\n",
            "tensor(0.9628, device='cuda:0')\n",
            "tensor(0.9644, device='cuda:0')\n",
            "tensor(0.9644, device='cuda:0')\n",
            "tensor(0.9644, device='cuda:0')\n",
            "tensor(0.9654, device='cuda:0')\n",
            "tensor(0.9652, device='cuda:0')\n",
            "tensor(0.9679, device='cuda:0')\n",
            "tensor(0.9630, device='cuda:0')\n",
            "tensor(0.9650, device='cuda:0')\n",
            "tensor(0.9670, device='cuda:0')\n",
            "tensor(0.9659, device='cuda:0')\n",
            "tensor(0.9653, device='cuda:0')\n",
            "cuda:0 53.85657811164856\n"
          ],
          "name": "stdout"
        }
      ]
    },
    {
      "cell_type": "code",
      "metadata": {
        "id": "WBvLDWbeS3-B",
        "colab_type": "code",
        "outputId": "479121ef-0ab0-4234-ac97-a1dbf12bd68b",
        "colab": {
          "base_uri": "https://localhost:8080/",
          "height": 283
        }
      },
      "source": [
        "plt.plot(train_accuracy_history, c='#2bd704', label='train_accuracy_history')\n",
        "plt.plot(train_loss_history, c='#0463d7', label='train_loss_history')\n",
        "plt.plot(test_accuracy_history, c='#cc04d7', label='test_accuracy_history')\n",
        "plt.plot(test_loss_history, c='#d7a904', label='test_loss_history')\n",
        "plt.legend()"
      ],
      "execution_count": 15,
      "outputs": [
        {
          "output_type": "execute_result",
          "data": {
            "text/plain": [
              "<matplotlib.legend.Legend at 0x7fc9c0652d30>"
            ]
          },
          "metadata": {
            "tags": []
          },
          "execution_count": 15
        },
        {
          "output_type": "display_data",
          "data": {
            "image/png": "[encoded data removed]",
            "text/plain": [
              "<Figure size 432x288 with 1 Axes>"
            ]
          },
          "metadata": {
            "tags": []
          }
        }
      ]
    },
    {
      "cell_type": "code",
      "metadata": {
        "id": "_PTT9xj3Z5Jl",
        "colab_type": "code",
        "outputId": "cdf37831-64cd-4d55-f1fb-8d276935b812",
        "colab": {
          "base_uri": "https://localhost:8080/",
          "height": 301
        }
      },
      "source": [
        "item_number = random.randint(0, len(X_test))\n",
        "plt.imshow(X_test[item_number].reshape(28, 28).cpu())\n",
        "plt.show()\n",
        "\n",
        "print('Prediction: ', int(mnist_net.forward(X_test[item_number]).argmax()))\n",
        "print('Target: ', int(y_test[item_number]))"
      ],
      "execution_count": 16,
      "outputs": [
        {
          "output_type": "display_data",
          "data": {
            "image/png": "[encoded data removed]",
            "text/plain": [
              "<Figure size 432x288 with 1 Axes>"
            ]
          },
          "metadata": {
            "tags": []
          }
        },
        {
          "output_type": "stream",
          "text": [
            "Prediction:  2\n",
            "Target:  2\n"
          ],
          "name": "stdout"
        }
      ]
    },
    {
      "cell_type": "markdown",
      "metadata": {
        "id": "Jfzt14nbtxCk",
        "colab_type": "text"
      },
      "source": [
        "# Saving Model"
      ]
    },
    {
      "cell_type": "code",
      "metadata": {
        "id": "gmekEW7etVht",
        "colab_type": "code",
        "colab": {}
      },
      "source": [
        "# # on collab\n",
        "# torch.save(mnist_net.cpu(), 'mnist_net')\n",
        "\n",
        "# # on PC\n",
        "# import torch\n",
        "# import matplotlib.pyplot as plt\n",
        "# import matplotlib.image as mpimg\n",
        "\n",
        "# class MNISTNet(torch.nn.Module):\n",
        "#     def __init__(self, n_hidden_neurons):\n",
        "#         super().__init__()\n",
        "#         self.fc1 = torch.nn.Linear(28 * 28, n_hidden_neurons)\n",
        "#         self.act1 = torch.nn.Sigmoid()\n",
        "#         self.fc2 = torch.nn.Linear(n_hidden_neurons, 10)\n",
        "\n",
        "#     def forward(self, x):\n",
        "#         x = self.fc1(x)\n",
        "#         x = self.act1(x)\n",
        "#         x = self.fc2(x)\n",
        "#         return x\n",
        "\n",
        "# mnist_net = torch.load('mnist_net')\n",
        "\n",
        "# # палитра изображения - градации серого\n",
        "# # гамма - линейное пространство\n",
        "# # формат bmp\n",
        "# img = mpimg.imread('4.bmp')\n",
        "# imgplot = plt.imshow(img)\n",
        "# plt.show()\n",
        "# print(mnist_net.forward(torch.Tensor(img).reshape(-1, 28 * 28)).argmax())\n"
      ],
      "execution_count": 0,
      "outputs": []
    }
  ]
}