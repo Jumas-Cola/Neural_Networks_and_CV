{
  "nbformat": 4,
  "nbformat_minor": 0,
  "metadata": {
    "colab": {
      "name": "PyTorch_numbers_classification.ipynb",
      "provenance": [],
      "collapsed_sections": [],
      "authorship_tag": "ABX9TyN+a1O3lsU5VLwhwW7KyTFs",
      "include_colab_link": true
    },
    "kernelspec": {
      "name": "python3",
      "display_name": "Python 3"
    },
    "accelerator": "GPU"
  },
  "cells": [
    {
      "cell_type": "markdown",
      "metadata": {
        "id": "view-in-github",
        "colab_type": "text"
      },
      "source": [
        "<a href=\"https://colab.research.google.com/github/Jumas-Cola/Neural_Networks_and_CV/blob/master/PyTorch_numbers_classification.ipynb\" target=\"_parent\"><img src=\"https://colab.research.google.com/assets/colab-badge.svg\" alt=\"Open In Colab\"/></a>"
      ]
    },
    {
      "cell_type": "code",
      "metadata": {
        "id": "8iccGKWSzkVH",
        "colab_type": "code",
        "colab": {}
      },
      "source": [
        "import torch\n",
        "import random\n",
        "import numpy as np\n",
        "\n",
        "def determinate_notebook():\n",
        "  random.seed(0)\n",
        "  np.random.seed(0)\n",
        "  torch.manual_seed(0)\n",
        "  torch.cuda.manual_seed(0)\n",
        "  torch.backends.cudnn.deterministic = True\n",
        "\n",
        "determinate_notebook()"
      ],
      "execution_count": 0,
      "outputs": []
    },
    {
      "cell_type": "code",
      "metadata": {
        "id": "k0N2_F-s0-TB",
        "colab_type": "code",
        "colab": {}
      },
      "source": [
        "import torchvision.datasets\n",
        "MNIST_train = torchvision.datasets.MNIST('./', download=True, train=True)\n",
        "MNIST_test = torchvision.datasets.MNIST('./', download=True, train=False)"
      ],
      "execution_count": 0,
      "outputs": []
    },
    {
      "cell_type": "code",
      "metadata": {
        "id": "zoA8Z3pd2Yx8",
        "colab_type": "code",
        "colab": {}
      },
      "source": [
        "X_train = MNIST_train.data\n",
        "y_train = MNIST_train.targets\n",
        "X_test = MNIST_train.data[:10000]\n",
        "y_test = MNIST_train.targets[:10000]"
      ],
      "execution_count": 0,
      "outputs": []
    },
    {
      "cell_type": "code",
      "metadata": {
        "id": "0JMlyVQA4mKt",
        "colab_type": "code",
        "colab": {
          "base_uri": "https://localhost:8080/",
          "height": 35
        },
        "outputId": "3e6c5e32-b844-4f8e-b3de-ab116a069fd6"
      },
      "source": [
        "X_train.dtype, y_train.dtype"
      ],
      "execution_count": 236,
      "outputs": [
        {
          "output_type": "execute_result",
          "data": {
            "text/plain": [
              "(torch.uint8, torch.int64)"
            ]
          },
          "metadata": {
            "tags": []
          },
          "execution_count": 236
        }
      ]
    },
    {
      "cell_type": "code",
      "metadata": {
        "id": "9I2lQnZ24uOF",
        "colab_type": "code",
        "colab": {}
      },
      "source": [
        "X_train = X_train.float()\n",
        "X_test = X_test.float()"
      ],
      "execution_count": 0,
      "outputs": []
    },
    {
      "cell_type": "code",
      "metadata": {
        "id": "uTW1Xm7c5fqR",
        "colab_type": "code",
        "colab": {
          "base_uri": "https://localhost:8080/",
          "height": 35
        },
        "outputId": "da4be3cb-3e82-4728-9e6d-f5764d229c36"
      },
      "source": [
        "X_train.shape, X_test.shape"
      ],
      "execution_count": 238,
      "outputs": [
        {
          "output_type": "execute_result",
          "data": {
            "text/plain": [
              "(torch.Size([60000, 28, 28]), torch.Size([10000, 28, 28]))"
            ]
          },
          "metadata": {
            "tags": []
          },
          "execution_count": 238
        }
      ]
    },
    {
      "cell_type": "code",
      "metadata": {
        "id": "1P0G4IFu5nWB",
        "colab_type": "code",
        "colab": {
          "base_uri": "https://localhost:8080/",
          "height": 35
        },
        "outputId": "53d55cdc-caac-4663-f41c-616fe686e1c6"
      },
      "source": [
        "y_train.shape, y_test.shape"
      ],
      "execution_count": 239,
      "outputs": [
        {
          "output_type": "execute_result",
          "data": {
            "text/plain": [
              "(torch.Size([60000]), torch.Size([10000]))"
            ]
          },
          "metadata": {
            "tags": []
          },
          "execution_count": 239
        }
      ]
    },
    {
      "cell_type": "code",
      "metadata": {
        "id": "mkI2kowb8CDR",
        "colab_type": "code",
        "colab": {
          "base_uri": "https://localhost:8080/",
          "height": 283
        },
        "outputId": "7926f19e-df14-4532-ba77-d015696e3ecb"
      },
      "source": [
        "import matplotlib.pyplot as plt\n",
        "\n",
        "plt.imshow(X_train[0, :, :])\n",
        "plt.show()\n",
        "print(y_train[0])"
      ],
      "execution_count": 240,
      "outputs": [
        {
          "output_type": "display_data",
          "data": {
            "image/png": "[encoded data removed]",
            "text/plain": [
              "<Figure size 432x288 with 1 Axes>"
            ]
          },
          "metadata": {
            "tags": []
          }
        },
        {
          "output_type": "stream",
          "text": [
            "tensor(5)\n"
          ],
          "name": "stdout"
        }
      ]
    },
    {
      "cell_type": "code",
      "metadata": {
        "id": "lA1ZECOi8224",
        "colab_type": "code",
        "colab": {}
      },
      "source": [
        "X_train = X_train.reshape([-1, 28 * 28])\n",
        "X_test = X_test.reshape([-1, 28 * 28])"
      ],
      "execution_count": 0,
      "outputs": []
    },
    {
      "cell_type": "code",
      "metadata": {
        "id": "HiYVr4ZB9t7q",
        "colab_type": "code",
        "colab": {}
      },
      "source": [
        "class MNISTNet(torch.nn.Module):\n",
        "  def __init__(self, n_hidden_neurons):\n",
        "    super().__init__()\n",
        "    self.fc1 = torch.nn.Linear(28 * 28, n_hidden_neurons)\n",
        "    self.act1 = torch.nn.Sigmoid()\n",
        "    self.fc2 = torch.nn.Linear(n_hidden_neurons, n_hidden_neurons)\n",
        "    self.act2 = torch.nn.Tanh()\n",
        "    self.fc3 = torch.nn.Linear(n_hidden_neurons, 10)\n",
        "  \n",
        "  def forward(self, x):\n",
        "    x = self.fc1(x)\n",
        "    x = self.act1(x)\n",
        "    x = self.fc2(x)\n",
        "    x = self.act2(x)\n",
        "    x = self.fc3(x)\n",
        "    return x\n",
        "\n",
        "mnist_net = MNISTNet(100)"
      ],
      "execution_count": 0,
      "outputs": []
    },
    {
      "cell_type": "code",
      "metadata": {
        "id": "p8IaIUgiPkQ0",
        "colab_type": "code",
        "colab": {
          "base_uri": "https://localhost:8080/",
          "height": 308
        },
        "outputId": "d1d08986-051d-407b-9847-a2a8f262910e"
      },
      "source": [
        "!nvidia-smi"
      ],
      "execution_count": 243,
      "outputs": [
        {
          "output_type": "stream",
          "text": [
            "Tue Feb 11 20:26:42 2020       \n",
            "+-----------------------------------------------------------------------------+\n",
            "| NVIDIA-SMI 440.48.02    Driver Version: 418.67       CUDA Version: 10.1     |\n",
            "|-------------------------------+----------------------+----------------------+\n",
            "| GPU  Name        Persistence-M| Bus-Id        Disp.A | Volatile Uncorr. ECC |\n",
            "| Fan  Temp  Perf  Pwr:Usage/Cap|         Memory-Usage | GPU-Util  Compute M. |\n",
            "|===============================+======================+======================|\n",
            "|   0  Tesla T4            Off  | 00000000:00:04.0 Off |                    0 |\n",
            "| N/A   75C    P0    33W /  70W |   5481MiB / 15079MiB |      0%      Default |\n",
            "+-------------------------------+----------------------+----------------------+\n",
            "                                                                               \n",
            "+-----------------------------------------------------------------------------+\n",
            "| Processes:                                                       GPU Memory |\n",
            "|  GPU       PID   Type   Process name                             Usage      |\n",
            "|=============================================================================|\n",
            "+-----------------------------------------------------------------------------+\n"
          ],
          "name": "stdout"
        }
      ]
    },
    {
      "cell_type": "code",
      "metadata": {
        "id": "QHyPZe-uS5Ok",
        "colab_type": "code",
        "colab": {
          "base_uri": "https://localhost:8080/",
          "height": 1000
        },
        "outputId": "63d534ea-089b-48fa-bca7-1a7b8d6f3661"
      },
      "source": [
        "device = torch.device('cuda:0' if torch.cuda.is_available() else 'cpu')\n",
        "mnist_net = mnist_net.to(device)\n",
        "list(mnist_net.parameters())"
      ],
      "execution_count": 244,
      "outputs": [
        {
          "output_type": "execute_result",
          "data": {
            "text/plain": [
              "[Parameter containing:\n",
              " tensor([[-0.0003,  0.0192, -0.0294,  ...,  0.0219,  0.0037,  0.0021],\n",
              "         [-0.0198, -0.0150, -0.0104,  ..., -0.0203, -0.0060, -0.0299],\n",
              "         [-0.0201,  0.0149, -0.0333,  ..., -0.0203,  0.0012,  0.0080],\n",
              "         ...,\n",
              "         [ 0.0221,  0.0258, -0.0088,  ..., -0.0141,  0.0051, -0.0318],\n",
              "         [-0.0217, -0.0136,  0.0185,  ..., -0.0012, -0.0012, -0.0017],\n",
              "         [ 0.0142,  0.0089, -0.0053,  ...,  0.0311, -0.0181,  0.0020]],\n",
              "        device='cuda:0', requires_grad=True), Parameter containing:\n",
              " tensor([-3.5402e-02,  1.8178e-02, -2.1709e-02, -1.1839e-02,  4.8722e-03,\n",
              "         -1.0492e-02, -1.9008e-02,  2.6994e-02, -3.4899e-02,  1.0381e-02,\n",
              "         -3.5228e-02, -5.6381e-03, -2.0134e-02, -3.0264e-02, -1.3289e-02,\n",
              "          2.5346e-02, -1.0797e-02,  2.1568e-03,  4.3630e-03, -2.1916e-02,\n",
              "          2.2670e-02, -1.5766e-02,  3.4906e-02, -2.3063e-02, -6.8216e-03,\n",
              "          2.7051e-02, -1.3991e-02,  9.7218e-03, -9.9075e-04,  1.6625e-03,\n",
              "          2.3455e-02, -2.5294e-02,  4.8019e-06, -2.5339e-02, -1.7412e-02,\n",
              "         -1.6342e-02,  2.6164e-03, -1.8025e-02,  2.5939e-02,  2.3884e-03,\n",
              "          1.1857e-03, -2.0811e-03, -1.4417e-03,  2.2246e-02, -2.7703e-02,\n",
              "          1.9103e-02,  1.7750e-02, -4.5987e-03, -5.7228e-03,  1.1429e-02,\n",
              "         -1.9616e-02,  1.0336e-04,  2.3019e-02, -1.9994e-02,  1.5292e-03,\n",
              "         -3.4574e-02, -2.8799e-02,  1.0611e-02, -1.4141e-02, -2.3886e-02,\n",
              "          2.2307e-02, -3.0040e-02, -2.8897e-02, -9.2013e-03, -3.6146e-03,\n",
              "          3.4074e-03,  7.3265e-03, -1.7886e-02, -1.8164e-02, -1.9736e-02,\n",
              "         -3.0381e-02, -1.5204e-02,  2.4328e-02, -2.2534e-02,  4.2453e-04,\n",
              "          2.7948e-02,  1.3828e-03,  3.3543e-02, -3.3373e-02, -6.0236e-04,\n",
              "          1.1359e-02,  3.2776e-02, -3.6375e-03, -2.7758e-02, -4.0390e-03,\n",
              "         -1.8094e-03, -2.1388e-02,  1.8606e-03, -1.4006e-02, -2.9517e-02,\n",
              "         -1.6692e-02, -7.7352e-03, -1.9986e-02,  1.8643e-02, -2.0421e-02,\n",
              "          1.1466e-02, -2.7346e-02,  2.3264e-03, -3.3796e-02,  1.1720e-02],\n",
              "        device='cuda:0', requires_grad=True), Parameter containing:\n",
              " tensor([[-0.0440, -0.0409, -0.0028,  ...,  0.0858, -0.0911, -0.0461],\n",
              "         [ 0.0286, -0.0978,  0.0996,  ...,  0.0691, -0.0030, -0.0555],\n",
              "         [-0.0581, -0.0162,  0.0596,  ..., -0.0541,  0.0469, -0.0707],\n",
              "         ...,\n",
              "         [ 0.0565,  0.0146,  0.0642,  ..., -0.0467, -0.0388, -0.0510],\n",
              "         [ 0.0087, -0.0266,  0.0302,  ...,  0.0871, -0.0382, -0.0974],\n",
              "         [-0.0561, -0.0923, -0.0133,  ..., -0.0387,  0.0933, -0.0368]],\n",
              "        device='cuda:0', requires_grad=True), Parameter containing:\n",
              " tensor([-0.0721,  0.0845, -0.0262, -0.0716,  0.0792,  0.0806, -0.0090, -0.0963,\n",
              "         -0.0514, -0.0433, -0.0637,  0.0413,  0.0972, -0.0533,  0.0454,  0.1000,\n",
              "          0.0480,  0.0629,  0.0889,  0.0827,  0.0167, -0.0594,  0.0379,  0.0128,\n",
              "          0.0703,  0.0389,  0.0827,  0.0166,  0.0844,  0.0321,  0.0729,  0.0327,\n",
              "          0.0195,  0.0550, -0.0572, -0.0315,  0.0137, -0.0622, -0.0619,  0.0571,\n",
              "          0.0521,  0.0191,  0.0459,  0.0235, -0.0322, -0.0543, -0.0828, -0.0021,\n",
              "          0.0065, -0.0032,  0.0427, -0.0890, -0.0350, -0.0265,  0.0135,  0.0663,\n",
              "         -0.0249,  0.0223,  0.0523,  0.0915, -0.0531,  0.0382,  0.0244, -0.0575,\n",
              "          0.0017,  0.0077,  0.0486, -0.0913,  0.0563,  0.0371, -0.0181, -0.0970,\n",
              "         -0.0340,  0.0242,  0.0331,  0.0354, -0.0270,  0.0455, -0.0820, -0.0274,\n",
              "          0.0069, -0.0871, -0.0828, -0.0293,  0.0233, -0.0334,  0.0711, -0.0332,\n",
              "         -0.0465, -0.0903, -0.0020, -0.0429,  0.0405, -0.0458, -0.0166, -0.0355,\n",
              "          0.0783, -0.0871,  0.0106,  0.0575], device='cuda:0',\n",
              "        requires_grad=True), Parameter containing:\n",
              " tensor([[-0.0234, -0.0752,  0.0461,  0.0483,  0.0841,  0.0344,  0.0485,  0.0399,\n",
              "           0.0248,  0.0720,  0.0281, -0.0404,  0.0469, -0.0466, -0.0212,  0.0171,\n",
              "           0.0706,  0.0070,  0.0928, -0.0111,  0.0977,  0.0174, -0.0046,  0.0700,\n",
              "           0.0869, -0.0233,  0.0646, -0.0527, -0.0671,  0.0070,  0.0005, -0.0937,\n",
              "           0.0844, -0.0065,  0.0232, -0.0999, -0.0164,  0.0735,  0.0129,  0.0455,\n",
              "           0.0532, -0.0863,  0.0150, -0.0424,  0.0641,  0.0838, -0.0564,  0.0901,\n",
              "          -0.0808, -0.0473,  0.0589,  0.0734,  0.0674, -0.0497, -0.0652,  0.0802,\n",
              "          -0.0242,  0.0772,  0.0604,  0.0635,  0.0565,  0.0654, -0.0655, -0.0878,\n",
              "          -0.0246, -0.0556, -0.0148, -0.0496,  0.0046, -0.0787, -0.0502,  0.0504,\n",
              "           0.0544,  0.0248, -0.0288,  0.0611, -0.0298, -0.0288, -0.0353,  0.0449,\n",
              "          -0.0124,  0.0939, -0.0577,  0.0218, -0.0888, -0.0586, -0.0187,  0.0040,\n",
              "           0.0402,  0.0665,  0.0112,  0.0470,  0.0017,  0.0367, -0.0740,  0.0421,\n",
              "           0.0614,  0.0191,  0.0149,  0.0352],\n",
              "         [ 0.0848,  0.0242,  0.0033,  0.0376,  0.0335,  0.0541, -0.0071,  0.0115,\n",
              "          -0.0365,  0.0489, -0.0336, -0.0786,  0.0608, -0.0529,  0.0218,  0.0240,\n",
              "          -0.0605, -0.0453,  0.0828, -0.0592, -0.0786,  0.0532,  0.0361, -0.0819,\n",
              "           0.0875, -0.0244,  0.0963,  0.0335, -0.0544, -0.0071,  0.0306, -0.0028,\n",
              "          -0.0450, -0.0268, -0.0076, -0.0456,  0.0450, -0.0645,  0.0794, -0.0445,\n",
              "          -0.0059,  0.0523,  0.0546,  0.0251,  0.0369, -0.0348,  0.0722, -0.0935,\n",
              "          -0.0943, -0.0842, -0.0821, -0.0447,  0.0121,  0.0258, -0.0040,  0.0723,\n",
              "          -0.0303,  0.0276,  0.0611,  0.0840, -0.0363,  0.0633,  0.0883, -0.0626,\n",
              "           0.0152, -0.0601, -0.0277, -0.0207, -0.0248, -0.0184,  0.0130, -0.0557,\n",
              "          -0.0672,  0.0995,  0.0270,  0.0143,  0.0353,  0.0504, -0.0507, -0.0563,\n",
              "          -0.0178,  0.0548, -0.0495,  0.0041, -0.0908, -0.0370, -0.0977,  0.0437,\n",
              "          -0.0386, -0.0364,  0.0154,  0.0419, -0.0507,  0.0176,  0.0446,  0.0466,\n",
              "          -0.0020, -0.0202, -0.0746,  0.0183],\n",
              "         [ 0.0808, -0.0439,  0.0680, -0.0124, -0.0296, -0.0479, -0.0227, -0.0472,\n",
              "          -0.0107, -0.0617, -0.0556, -0.0739,  0.0327,  0.0980, -0.0981, -0.0038,\n",
              "           0.0760, -0.0940, -0.0980, -0.0668,  0.0196, -0.0422,  0.0686, -0.0936,\n",
              "           0.0531, -0.0375, -0.0171,  0.0002,  0.0137,  0.0436, -0.0677, -0.0207,\n",
              "          -0.0928,  0.0929, -0.0600,  0.0166,  0.0686,  0.0915,  0.0098,  0.0931,\n",
              "          -0.0940,  0.0018,  0.0005,  0.0941, -0.0522,  0.0721,  0.0139, -0.0244,\n",
              "           0.0527, -0.0525,  0.0312,  0.0212, -0.0196, -0.0084,  0.0501,  0.0552,\n",
              "           0.0097, -0.0984, -0.0238, -0.0939, -0.0354, -0.0731,  0.0924, -0.0345,\n",
              "           0.0430,  0.0097, -0.0885,  0.0168,  0.0298,  0.0107, -0.0483,  0.0329,\n",
              "           0.0015,  0.0475,  0.0107, -0.0222,  0.0662,  0.0845, -0.0425,  0.0018,\n",
              "           0.0014, -0.0451, -0.0702, -0.0321, -0.0465, -0.0269, -0.0166, -0.0136,\n",
              "           0.0089,  0.0497, -0.0242, -0.0649,  0.0506, -0.0506, -0.0093,  0.0305,\n",
              "           0.0882, -0.0308,  0.0189,  0.0055],\n",
              "         [ 0.0690,  0.0281,  0.0882,  0.0532, -0.0596,  0.0581, -0.0253, -0.0186,\n",
              "          -0.0857, -0.0148,  0.0504,  0.0145,  0.0340, -0.0288,  0.0416, -0.0220,\n",
              "           0.0218,  0.0114, -0.0270, -0.0784,  0.0760, -0.0323,  0.0096, -0.0273,\n",
              "           0.0269,  0.0595,  0.0005,  0.0912, -0.0184,  0.0588, -0.0335,  0.0699,\n",
              "           0.0889, -0.0678, -0.0186,  0.0876, -0.0577, -0.0680,  0.0095, -0.0171,\n",
              "          -0.0314,  0.0464, -0.0658, -0.0166,  0.0363,  0.0640, -0.0784,  0.0035,\n",
              "          -0.0655, -0.0688,  0.0092,  0.0519,  0.0200,  0.0180,  0.0566, -0.0496,\n",
              "          -0.0342, -0.0697, -0.0988, -0.0144, -0.0071, -0.0947,  0.0876, -0.0286,\n",
              "           0.0846, -0.0020, -0.0753,  0.0820, -0.0399, -0.0124, -0.0865, -0.0462,\n",
              "           0.0057, -0.0607,  0.0285,  0.0755,  0.0201, -0.0418, -0.0257,  0.0625,\n",
              "          -0.0598, -0.0490,  0.0931,  0.0226, -0.0162,  0.0175, -0.0660, -0.0995,\n",
              "           0.0359,  0.0375,  0.0802,  0.0322, -0.0398, -0.0142,  0.0097,  0.0276,\n",
              "           0.0838, -0.0833,  0.0638,  0.0518],\n",
              "         [ 0.0772,  0.0514,  0.0011,  0.0128, -0.0203, -0.0052, -0.0445,  0.0722,\n",
              "          -0.0365,  0.0609, -0.0906,  0.0891, -0.0145,  0.0439,  0.0912, -0.0898,\n",
              "           0.0160, -0.0483,  0.0293, -0.0941, -0.0747, -0.0948, -0.0454, -0.0489,\n",
              "           0.0787, -0.0441, -0.0867,  0.0889, -0.0547,  0.0717, -0.0416, -0.0090,\n",
              "          -0.0691, -0.0091,  0.0507,  0.0737, -0.0744, -0.0442,  0.0831,  0.0082,\n",
              "          -0.0303, -0.0158, -0.0509,  0.0607,  0.0573,  0.0446,  0.0100, -0.0941,\n",
              "          -0.0412,  0.0884, -0.0190, -0.0938,  0.0686, -0.0079,  0.0567,  0.0071,\n",
              "           0.0021, -0.0258, -0.0076, -0.0163,  0.0886, -0.0336,  0.0142, -0.0141,\n",
              "          -0.0671,  0.0274,  0.0625, -0.0348, -0.0248, -0.0369,  0.0097,  0.0047,\n",
              "          -0.0606,  0.0724, -0.0104,  0.0811,  0.0618, -0.0770, -0.0223,  0.0238,\n",
              "           0.0402,  0.0184, -0.0814,  0.0025, -0.0801,  0.0672,  0.0579,  0.0357,\n",
              "          -0.0526,  0.0669, -0.0081, -0.0659, -0.0020, -0.0855,  0.0543, -0.0889,\n",
              "          -0.0149,  0.0652, -0.0100,  0.0540],\n",
              "         [ 0.0889, -0.0118,  0.0772, -0.0646, -0.0097, -0.0014, -0.0820, -0.0135,\n",
              "           0.0583, -0.0139,  0.0327,  0.0915,  0.0129, -0.0118,  0.0356,  0.0782,\n",
              "           0.0697,  0.0569,  0.0226,  0.0316, -0.0260,  0.0617,  0.0843, -0.0937,\n",
              "          -0.0743, -0.0422,  0.0206,  0.0864, -0.0498, -0.0904, -0.0608,  0.0126,\n",
              "          -0.0386,  0.0044,  0.0959, -0.0710, -0.0171,  0.0418, -0.0612, -0.0357,\n",
              "           0.0497, -0.0687,  0.0889,  0.0457, -0.0964,  0.0562, -0.0247, -0.0540,\n",
              "           0.0183,  0.0484,  0.0747,  0.0212,  0.0584,  0.0017, -0.0316, -0.0030,\n",
              "           0.0663,  0.0560,  0.0120, -0.0789, -0.0657, -0.0115, -0.0811, -0.0284,\n",
              "           0.0619,  0.0355,  0.0693, -0.0539, -0.0126,  0.0112,  0.0269,  0.0561,\n",
              "           0.0123, -0.0644,  0.0471, -0.0679, -0.0101,  0.0527, -0.0296, -0.0826,\n",
              "           0.0861, -0.0118,  0.0268, -0.0978,  0.0131, -0.0466,  0.0454, -0.0951,\n",
              "          -0.0536,  0.0409,  0.0884, -0.0595, -0.0157,  0.0388, -0.0750,  0.0651,\n",
              "           0.0787, -0.0563, -0.0842, -0.0745],\n",
              "         [-0.0429,  0.0233,  0.0213, -0.0622,  0.0165, -0.0911, -0.0087, -0.0995,\n",
              "          -0.0292,  0.0993, -0.0924, -0.0359, -0.0286,  0.0091,  0.0749,  0.0421,\n",
              "           0.0950, -0.0042,  0.0037,  0.0289, -0.0284, -0.0176,  0.0678,  0.0007,\n",
              "           0.0515, -0.0058,  0.0044,  0.0415, -0.0592,  0.0863, -0.0336, -0.0686,\n",
              "           0.0544,  0.0309, -0.0515,  0.0238,  0.0181, -0.0967,  0.0721,  0.0821,\n",
              "          -0.0441, -0.0822, -0.0268,  0.0923, -0.0695,  0.0667,  0.0033,  0.0155,\n",
              "          -0.0081, -0.0959,  0.0692, -0.0617,  0.0296,  0.0129, -0.0254,  0.0857,\n",
              "           0.0618,  0.0872, -0.0592, -0.0060, -0.0894, -0.0951, -0.0587,  0.0830,\n",
              "           0.0129, -0.0976,  0.0668,  0.0644, -0.0638, -0.0822,  0.0879, -0.0517,\n",
              "          -0.0968,  0.0604, -0.0480, -0.0556, -0.0660,  0.0784,  0.0479, -0.0057,\n",
              "           0.0068, -0.0097, -0.0229, -0.0325, -0.0793,  0.0273,  0.0326, -0.0170,\n",
              "          -0.0651, -0.0113,  0.0542, -0.0654, -0.0420,  0.0249, -0.0490,  0.0971,\n",
              "          -0.0676, -0.0387, -0.0303,  0.0620],\n",
              "         [ 0.0924, -0.0713, -0.0796,  0.0996,  0.0764, -0.0304,  0.0594,  0.0138,\n",
              "          -0.0015, -0.0419, -0.0638, -0.0854,  0.0575,  0.0730, -0.0676, -0.0718,\n",
              "          -0.0953,  0.0966,  0.0532,  0.0689, -0.0620,  0.0235, -0.0018,  0.0576,\n",
              "           0.0762,  0.0250,  0.0269, -0.0405, -0.0111, -0.0769, -0.0452,  0.0751,\n",
              "           0.0253,  0.0685,  0.0914,  0.0132, -0.0153,  0.0619,  0.0942,  0.0220,\n",
              "           0.0638, -0.0520,  0.0857, -0.0061,  0.0805,  0.0500,  0.0064,  0.0806,\n",
              "          -0.0652,  0.0368,  0.0541,  0.0089,  0.0870,  0.0460,  0.0615,  0.0654,\n",
              "           0.0558,  0.0661, -0.0119, -0.0017, -0.0155, -0.0663, -0.0881, -0.0907,\n",
              "          -0.0301, -0.0068,  0.0120, -0.0184,  0.0996,  0.0828,  0.0153, -0.0149,\n",
              "          -0.0532,  0.0138,  0.0373,  0.0604,  0.0214, -0.0196,  0.0244,  0.0462,\n",
              "          -0.0860,  0.0926, -0.0428,  0.0431,  0.0144,  0.0097,  0.0729, -0.0216,\n",
              "           0.0972, -0.0540,  0.0262,  0.0159, -0.0615,  0.0381,  0.0016,  0.0136,\n",
              "          -0.0997, -0.0929,  0.0479,  0.0549],\n",
              "         [-0.0404, -0.0440, -0.0305, -0.0853,  0.0666, -0.0981, -0.0780,  0.0580,\n",
              "           0.0539,  0.0984, -0.0117, -0.0056,  0.0269,  0.0763, -0.0868,  0.0126,\n",
              "           0.0026, -0.0782, -0.0554,  0.0897, -0.0554, -0.0161,  0.0350, -0.0601,\n",
              "          -0.0813, -0.0870,  0.0998,  0.0609, -0.0168, -0.0758,  0.0863,  0.0171,\n",
              "           0.0876,  0.0565,  0.0442,  0.0169,  0.0992, -0.0215, -0.0731,  0.0179,\n",
              "          -0.0146, -0.0346, -0.0281,  0.0418,  0.0982,  0.0078, -0.0756,  0.0092,\n",
              "          -0.0766,  0.0826,  0.0957, -0.0038,  0.0292,  0.0641,  0.0647, -0.0383,\n",
              "          -0.0286,  0.0796,  0.0274,  0.0837,  0.0225,  0.0948,  0.0403,  0.0413,\n",
              "           0.0936, -0.0341, -0.0463,  0.0076, -0.0570, -0.0515,  0.0519,  0.0779,\n",
              "           0.0116,  0.0504,  0.0194,  0.0725,  0.0877, -0.0633,  0.0592,  0.0827,\n",
              "           0.0493, -0.0815, -0.0800,  0.0500, -0.0386, -0.0232,  0.0944,  0.0323,\n",
              "          -0.0313,  0.0335,  0.0949, -0.0814,  0.0386,  0.0660,  0.0769,  0.0038,\n",
              "          -0.0609,  0.0178, -0.0354, -0.0302],\n",
              "         [-0.0994,  0.0973,  0.0064,  0.0703, -0.0618,  0.0557, -0.0844, -0.0058,\n",
              "           0.0510,  0.0363,  0.0748, -0.0217, -0.0352,  0.0583, -0.0288, -0.0922,\n",
              "          -0.0393, -0.0484, -0.0334, -0.0491,  0.0414, -0.0536, -0.0182,  0.0386,\n",
              "          -0.0987,  0.0952, -0.0335,  0.0410, -0.0673,  0.0079, -0.0995,  0.0639,\n",
              "           0.0185,  0.0437, -0.0990,  0.0713,  0.0447,  0.0895,  0.0126, -0.0596,\n",
              "           0.0372, -0.0591, -0.0976, -0.0463, -0.0790,  0.0564,  0.0422, -0.0330,\n",
              "          -0.0317,  0.0892,  0.0167, -0.0293, -0.0854, -0.0500,  0.0310, -0.0908,\n",
              "          -0.0718, -0.0802,  0.0781,  0.0028,  0.0465, -0.0253, -0.0721,  0.0822,\n",
              "           0.0732, -0.0071,  0.0038, -0.0615,  0.0132,  0.0982, -0.0311, -0.0040,\n",
              "           0.0542,  0.0030,  0.0535, -0.0967,  0.0276, -0.0126, -0.0329, -0.0171,\n",
              "          -0.0912,  0.0050,  0.0742,  0.0350, -0.0858,  0.0804, -0.0652, -0.0620,\n",
              "          -0.0038,  0.0806, -0.0624,  0.0330, -0.0579,  0.0437, -0.0900, -0.0904,\n",
              "           0.0893, -0.0135, -0.0225,  0.0680]], device='cuda:0',\n",
              "        requires_grad=True), Parameter containing:\n",
              " tensor([ 0.0973,  0.0883,  0.0552, -0.0974,  0.0578,  0.0552,  0.0066, -0.0414,\n",
              "          0.0558, -0.0143], device='cuda:0', requires_grad=True)]"
            ]
          },
          "metadata": {
            "tags": []
          },
          "execution_count": 244
        }
      ]
    },
    {
      "cell_type": "code",
      "metadata": {
        "id": "LpXfVJSnUFbh",
        "colab_type": "code",
        "colab": {}
      },
      "source": [
        "loss = torch.nn.CrossEntropyLoss()\n",
        "optimizer = torch.optim.Adam(mnist_net.parameters(), lr=1.0e-4)"
      ],
      "execution_count": 0,
      "outputs": []
    },
    {
      "cell_type": "code",
      "metadata": {
        "id": "8JneciBGUcj5",
        "colab_type": "code",
        "colab": {
          "base_uri": "https://localhost:8080/",
          "height": 945
        },
        "outputId": "02d2c75f-eee4-4374-8a55-2552bd3d6593"
      },
      "source": [
        "batch_size = 100\n",
        "\n",
        "train_accuracy_history = []\n",
        "train_loss_history = []\n",
        "test_accuracy_history = []\n",
        "test_loss_history = []\n",
        "\n",
        "X_test = X_test.to(device)\n",
        "y_test = y_test.to(device)\n",
        "\n",
        "import time\n",
        "\n",
        "start_time = time.time()\n",
        "\n",
        "for epoch in range(50):\n",
        "  order = np.random.permutation(len(X_train))\n",
        "  for start_index in range(0, len(X_train), batch_size):\n",
        "    optimizer.zero_grad()\n",
        "    batch_indexes = order[start_index:start_index+batch_size]\n",
        "\n",
        "    X_batch = X_train[batch_indexes].to(device)\n",
        "    y_batch = y_train[batch_indexes].to(device)\n",
        "\n",
        "    preds = mnist_net.forward(X_batch)\n",
        "\n",
        "    loss_value = loss(preds, y_batch)\n",
        "    loss_value.backward()\n",
        "\n",
        "    optimizer.step()\n",
        "  if start_index + batch_size >= len(X_train):\n",
        "    train_preds = mnist_net.forward(X_batch.cuda())\n",
        "    train_loss_history.append(loss(train_preds, y_batch.cuda()))\n",
        "\n",
        "    accuracy = (train_preds.argmax(dim=1) == y_batch.cuda()).float().mean()\n",
        "    train_accuracy_history.append(accuracy)\n",
        "\n",
        "  test_preds = mnist_net.forward(X_test)\n",
        "  test_loss_history.append(loss(test_preds, y_test))\n",
        "\n",
        "  accuracy = (test_preds.argmax(dim=1) == y_test).float().mean()\n",
        "  test_accuracy_history.append(accuracy)\n",
        "\n",
        "  print(accuracy)\n",
        "print(device, time.time() - start_time)\n",
        "# cuda:0 85.4325487613678\n",
        "# cpu 203.7979030609131"
      ],
      "execution_count": 246,
      "outputs": [
        {
          "output_type": "stream",
          "text": [
            "tensor(0.8936, device='cuda:0')\n",
            "tensor(0.9206, device='cuda:0')\n",
            "tensor(0.9334, device='cuda:0')\n",
            "tensor(0.9396, device='cuda:0')\n",
            "tensor(0.9474, device='cuda:0')\n",
            "tensor(0.9519, device='cuda:0')\n",
            "tensor(0.9553, device='cuda:0')\n",
            "tensor(0.9584, device='cuda:0')\n",
            "tensor(0.9590, device='cuda:0')\n",
            "tensor(0.9622, device='cuda:0')\n",
            "tensor(0.9660, device='cuda:0')\n",
            "tensor(0.9665, device='cuda:0')\n",
            "tensor(0.9714, device='cuda:0')\n",
            "tensor(0.9693, device='cuda:0')\n",
            "tensor(0.9720, device='cuda:0')\n",
            "tensor(0.9724, device='cuda:0')\n",
            "tensor(0.9729, device='cuda:0')\n",
            "tensor(0.9767, device='cuda:0')\n",
            "tensor(0.9756, device='cuda:0')\n",
            "tensor(0.9767, device='cuda:0')\n",
            "tensor(0.9757, device='cuda:0')\n",
            "tensor(0.9792, device='cuda:0')\n",
            "tensor(0.9788, device='cuda:0')\n",
            "tensor(0.9806, device='cuda:0')\n",
            "tensor(0.9803, device='cuda:0')\n",
            "tensor(0.9828, device='cuda:0')\n",
            "tensor(0.9824, device='cuda:0')\n",
            "tensor(0.9825, device='cuda:0')\n",
            "tensor(0.9838, device='cuda:0')\n",
            "tensor(0.9839, device='cuda:0')\n",
            "tensor(0.9853, device='cuda:0')\n",
            "tensor(0.9867, device='cuda:0')\n",
            "tensor(0.9854, device='cuda:0')\n",
            "tensor(0.9836, device='cuda:0')\n",
            "tensor(0.9870, device='cuda:0')\n",
            "tensor(0.9877, device='cuda:0')\n",
            "tensor(0.9879, device='cuda:0')\n",
            "tensor(0.9862, device='cuda:0')\n",
            "tensor(0.9885, device='cuda:0')\n",
            "tensor(0.9899, device='cuda:0')\n",
            "tensor(0.9898, device='cuda:0')\n",
            "tensor(0.9879, device='cuda:0')\n",
            "tensor(0.9896, device='cuda:0')\n",
            "tensor(0.9891, device='cuda:0')\n",
            "tensor(0.9882, device='cuda:0')\n",
            "tensor(0.9918, device='cuda:0')\n",
            "tensor(0.9902, device='cuda:0')\n",
            "tensor(0.9912, device='cuda:0')\n",
            "tensor(0.9908, device='cuda:0')\n",
            "tensor(0.9905, device='cuda:0')\n",
            "cuda:0 56.86118721961975\n"
          ],
          "name": "stdout"
        }
      ]
    },
    {
      "cell_type": "code",
      "metadata": {
        "id": "WBvLDWbeS3-B",
        "colab_type": "code",
        "colab": {
          "base_uri": "https://localhost:8080/",
          "height": 283
        },
        "outputId": "54f6d89b-b94f-4a3b-c147-a05d4fba245e"
      },
      "source": [
        "plt.plot(train_accuracy_history, c='#2bd704', label='train_accuracy_history')\n",
        "plt.plot(train_loss_history, c='#0463d7', label='train_loss_history')\n",
        "plt.plot(test_accuracy_history, c='#cc04d7', label='test_accuracy_history')\n",
        "plt.plot(test_loss_history, c='#d7a904', label='test_loss_history')\n",
        "plt.legend()"
      ],
      "execution_count": 247,
      "outputs": [
        {
          "output_type": "execute_result",
          "data": {
            "text/plain": [
              "<matplotlib.legend.Legend at 0x7f9d30245b70>"
            ]
          },
          "metadata": {
            "tags": []
          },
          "execution_count": 247
        },
        {
          "output_type": "display_data",
          "data": {
            "image/png": "[encoded data removed]",
            "text/plain": [
              "<Figure size 432x288 with 1 Axes>"
            ]
          },
          "metadata": {
            "tags": []
          }
        }
      ]
    },
    {
      "cell_type": "code",
      "metadata": {
        "id": "_PTT9xj3Z5Jl",
        "colab_type": "code",
        "colab": {
          "base_uri": "https://localhost:8080/",
          "height": 301
        },
        "outputId": "cd349016-def9-407a-ec1d-8a38351684f0"
      },
      "source": [
        "item_number = random.randint(0, len(X_test))\n",
        "plt.imshow(X_test[item_number].reshape(28, 28).cpu())\n",
        "plt.show()\n",
        "\n",
        "print('Prediction: ', int(mnist_net.forward(X_test[item_number]).argmax()))\n",
        "print('Target: ', int(y_test[item_number]))"
      ],
      "execution_count": 248,
      "outputs": [
        {
          "output_type": "display_data",
          "data": {
            "image/png": "[encoded data removed]",
            "text/plain": [
              "<Figure size 432x288 with 1 Axes>"
            ]
          },
          "metadata": {
            "tags": []
          }
        },
        {
          "output_type": "stream",
          "text": [
            "Prediction:  1\n",
            "Target:  1\n"
          ],
          "name": "stdout"
        }
      ]
    },
    {
      "cell_type": "markdown",
      "metadata": {
        "id": "Jfzt14nbtxCk",
        "colab_type": "text"
      },
      "source": [
        "# Saving Model"
      ]
    },
    {
      "cell_type": "code",
      "metadata": {
        "id": "gmekEW7etVht",
        "colab_type": "code",
        "colab": {}
      },
      "source": [
        "# # on collab\n",
        "# torch.save(mnist_net.cpu(), 'mnist_net')\n",
        "\n",
        "# # on PC\n",
        "# import torch\n",
        "# import matplotlib.pyplot as plt\n",
        "# import matplotlib.image as mpimg\n",
        "\n",
        "# class MNISTNet(torch.nn.Module):\n",
        "#     def __init__(self, n_hidden_neurons):\n",
        "#         super().__init__()\n",
        "#         self.fc1 = torch.nn.Linear(28 * 28, n_hidden_neurons)\n",
        "#         self.act1 = torch.nn.Sigmoid()\n",
        "#         self.fc2 = torch.nn.Linear(n_hidden_neurons, 10)\n",
        "\n",
        "#     def forward(self, x):\n",
        "#         x = self.fc1(x)\n",
        "#         x = self.act1(x)\n",
        "#         x = self.fc2(x)\n",
        "#         return x\n",
        "\n",
        "# mnist_net = torch.load('mnist_net')\n",
        "\n",
        "# # палитра изображения - градации серого\n",
        "# # гамма - линейное пространство\n",
        "# # формат bmp\n",
        "# img = mpimg.imread('4.bmp')\n",
        "# imgplot = plt.imshow(img)\n",
        "# plt.show()\n",
        "# print(mnist_net.forward(torch.Tensor(img).reshape(-1, 28 * 28)).argmax())\n"
      ],
      "execution_count": 0,
      "outputs": []
    }
  ]
}